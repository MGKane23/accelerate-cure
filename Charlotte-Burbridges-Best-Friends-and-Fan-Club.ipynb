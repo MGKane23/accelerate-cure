{
 "cells": [
  {
   "cell_type": "code",
   "execution_count": 53,
   "id": "27e81b5b",
   "metadata": {},
   "outputs": [],
   "source": [
    "import pandas as pd\n",
    "import seaborn as sns\n",
    "import matplotlib.pyplot as plt"
   ]
  },
  {
   "cell_type": "code",
   "execution_count": 6,
   "id": "a6f07944",
   "metadata": {},
   "outputs": [
    {
     "data": {
      "text/html": [
       "<div>\n",
       "<style scoped>\n",
       "    .dataframe tbody tr th:only-of-type {\n",
       "        vertical-align: middle;\n",
       "    }\n",
       "\n",
       "    .dataframe tbody tr th {\n",
       "        vertical-align: top;\n",
       "    }\n",
       "\n",
       "    .dataframe thead th {\n",
       "        text-align: right;\n",
       "    }\n",
       "</style>\n",
       "<table border=\"1\" class=\"dataframe\">\n",
       "  <thead>\n",
       "    <tr style=\"text-align: right;\">\n",
       "      <th></th>\n",
       "      <th>disease</th>\n",
       "      <th>diag_dis</th>\n",
       "      <th>dom_hand</th>\n",
       "      <th>sex</th>\n",
       "      <th>wt_kg</th>\n",
       "      <th>ht_cm</th>\n",
       "      <th>eth_part</th>\n",
       "      <th>rac_part</th>\n",
       "      <th>moth_smk</th>\n",
       "    </tr>\n",
       "    <tr>\n",
       "      <th>BARCODE2</th>\n",
       "      <th></th>\n",
       "      <th></th>\n",
       "      <th></th>\n",
       "      <th></th>\n",
       "      <th></th>\n",
       "      <th></th>\n",
       "      <th></th>\n",
       "      <th></th>\n",
       "      <th></th>\n",
       "    </tr>\n",
       "  </thead>\n",
       "  <tbody>\n",
       "    <tr>\n",
       "      <th>AC000003</th>\n",
       "      <td>MS</td>\n",
       "      <td>CASE</td>\n",
       "      <td>LEFT</td>\n",
       "      <td>MALE</td>\n",
       "      <td>90.718474</td>\n",
       "      <td>180.34</td>\n",
       "      <td>Non Hispanic or Latino</td>\n",
       "      <td>White</td>\n",
       "      <td>True</td>\n",
       "    </tr>\n",
       "    <tr>\n",
       "      <th>AC000005</th>\n",
       "      <td>MS</td>\n",
       "      <td>CASE</td>\n",
       "      <td>RIGHT</td>\n",
       "      <td>FEMALE</td>\n",
       "      <td>93.440028</td>\n",
       "      <td>167.64</td>\n",
       "      <td>Non Hispanic or Latino</td>\n",
       "      <td>White</td>\n",
       "      <td>True</td>\n",
       "    </tr>\n",
       "    <tr>\n",
       "      <th>AC000006</th>\n",
       "      <td>CONTROL</td>\n",
       "      <td>CONTROL</td>\n",
       "      <td>RIGHT</td>\n",
       "      <td>FEMALE</td>\n",
       "      <td>102.058283</td>\n",
       "      <td>162.56</td>\n",
       "      <td>Non Hispanic or Latino</td>\n",
       "      <td>White</td>\n",
       "      <td>False</td>\n",
       "    </tr>\n",
       "    <tr>\n",
       "      <th>AC000007</th>\n",
       "      <td>CONTROL</td>\n",
       "      <td>CONTROL</td>\n",
       "      <td>LEFT</td>\n",
       "      <td>MALE</td>\n",
       "      <td>79.832257</td>\n",
       "      <td>179.07</td>\n",
       "      <td>Non Hispanic or Latino</td>\n",
       "      <td>White</td>\n",
       "      <td>True</td>\n",
       "    </tr>\n",
       "    <tr>\n",
       "      <th>AC000009</th>\n",
       "      <td>TM</td>\n",
       "      <td>CASE</td>\n",
       "      <td>RIGHT</td>\n",
       "      <td>FEMALE</td>\n",
       "      <td>58.967008</td>\n",
       "      <td>166.37</td>\n",
       "      <td>Non Hispanic or Latino</td>\n",
       "      <td>White</td>\n",
       "      <td>False</td>\n",
       "    </tr>\n",
       "    <tr>\n",
       "      <th>...</th>\n",
       "      <td>...</td>\n",
       "      <td>...</td>\n",
       "      <td>...</td>\n",
       "      <td>...</td>\n",
       "      <td>...</td>\n",
       "      <td>...</td>\n",
       "      <td>...</td>\n",
       "      <td>...</td>\n",
       "      <td>...</td>\n",
       "    </tr>\n",
       "    <tr>\n",
       "      <th>PC001059</th>\n",
       "      <td>CONTROL</td>\n",
       "      <td>CONTROL</td>\n",
       "      <td>RIGHT</td>\n",
       "      <td>MALE</td>\n",
       "      <td>27.215542</td>\n",
       "      <td>132.08</td>\n",
       "      <td>Non Hispanic or Latino</td>\n",
       "      <td>White</td>\n",
       "      <td>True</td>\n",
       "    </tr>\n",
       "    <tr>\n",
       "      <th>PC001064</th>\n",
       "      <td>CONTROL</td>\n",
       "      <td>CONTROL</td>\n",
       "      <td>RIGHT</td>\n",
       "      <td>FEMALE</td>\n",
       "      <td>58.967008</td>\n",
       "      <td>162.56</td>\n",
       "      <td>Non Hispanic or Latino</td>\n",
       "      <td>White</td>\n",
       "      <td>True</td>\n",
       "    </tr>\n",
       "    <tr>\n",
       "      <th>PC001065</th>\n",
       "      <td>CONTROL</td>\n",
       "      <td>CONTROL</td>\n",
       "      <td>RIGHT</td>\n",
       "      <td>FEMALE</td>\n",
       "      <td>48.987976</td>\n",
       "      <td>165.10</td>\n",
       "      <td>Non Hispanic or Latino</td>\n",
       "      <td>White</td>\n",
       "      <td>True</td>\n",
       "    </tr>\n",
       "    <tr>\n",
       "      <th>PC001069</th>\n",
       "      <td>CONTROL</td>\n",
       "      <td>CONTROL</td>\n",
       "      <td>LEFT</td>\n",
       "      <td>FEMALE</td>\n",
       "      <td>60.327785</td>\n",
       "      <td>175.26</td>\n",
       "      <td>Non Hispanic or Latino</td>\n",
       "      <td>White</td>\n",
       "      <td>True</td>\n",
       "    </tr>\n",
       "    <tr>\n",
       "      <th>PC001070</th>\n",
       "      <td>CONTROL</td>\n",
       "      <td>CONTROL</td>\n",
       "      <td>RIGHT</td>\n",
       "      <td>FEMALE</td>\n",
       "      <td>34.473020</td>\n",
       "      <td>152.40</td>\n",
       "      <td>Non Hispanic or Latino</td>\n",
       "      <td>White</td>\n",
       "      <td>True</td>\n",
       "    </tr>\n",
       "  </tbody>\n",
       "</table>\n",
       "<p>2992 rows × 9 columns</p>\n",
       "</div>"
      ],
      "text/plain": [
       "          disease diag_dis dom_hand     sex       wt_kg   ht_cm  \\\n",
       "BARCODE2                                                          \n",
       "AC000003       MS     CASE     LEFT    MALE   90.718474  180.34   \n",
       "AC000005       MS     CASE    RIGHT  FEMALE   93.440028  167.64   \n",
       "AC000006  CONTROL  CONTROL    RIGHT  FEMALE  102.058283  162.56   \n",
       "AC000007  CONTROL  CONTROL     LEFT    MALE   79.832257  179.07   \n",
       "AC000009       TM     CASE    RIGHT  FEMALE   58.967008  166.37   \n",
       "...           ...      ...      ...     ...         ...     ...   \n",
       "PC001059  CONTROL  CONTROL    RIGHT    MALE   27.215542  132.08   \n",
       "PC001064  CONTROL  CONTROL    RIGHT  FEMALE   58.967008  162.56   \n",
       "PC001065  CONTROL  CONTROL    RIGHT  FEMALE   48.987976  165.10   \n",
       "PC001069  CONTROL  CONTROL     LEFT  FEMALE   60.327785  175.26   \n",
       "PC001070  CONTROL  CONTROL    RIGHT  FEMALE   34.473020  152.40   \n",
       "\n",
       "                        eth_part rac_part moth_smk  \n",
       "BARCODE2                                            \n",
       "AC000003  Non Hispanic or Latino    White     True  \n",
       "AC000005  Non Hispanic or Latino    White     True  \n",
       "AC000006  Non Hispanic or Latino    White    False  \n",
       "AC000007  Non Hispanic or Latino    White     True  \n",
       "AC000009  Non Hispanic or Latino    White    False  \n",
       "...                          ...      ...      ...  \n",
       "PC001059  Non Hispanic or Latino    White     True  \n",
       "PC001064  Non Hispanic or Latino    White     True  \n",
       "PC001065  Non Hispanic or Latino    White     True  \n",
       "PC001069  Non Hispanic or Latino    White     True  \n",
       "PC001070  Non Hispanic or Latino    White     True  \n",
       "\n",
       "[2992 rows x 9 columns]"
      ]
     },
     "execution_count": 6,
     "metadata": {},
     "output_type": "execute_result"
    }
   ],
   "source": [
    "ms = pd.read_pickle('pkl/parts.pkl')\n",
    "ms"
   ]
  },
  {
   "cell_type": "markdown",
   "id": "d8e284d1",
   "metadata": {},
   "source": [
    "adding BMI as a column"
   ]
  },
  {
   "cell_type": "code",
   "execution_count": 10,
   "id": "b71a5a59",
   "metadata": {
    "scrolled": false
   },
   "outputs": [
    {
     "data": {
      "text/html": [
       "<div>\n",
       "<style scoped>\n",
       "    .dataframe tbody tr th:only-of-type {\n",
       "        vertical-align: middle;\n",
       "    }\n",
       "\n",
       "    .dataframe tbody tr th {\n",
       "        vertical-align: top;\n",
       "    }\n",
       "\n",
       "    .dataframe thead th {\n",
       "        text-align: right;\n",
       "    }\n",
       "</style>\n",
       "<table border=\"1\" class=\"dataframe\">\n",
       "  <thead>\n",
       "    <tr style=\"text-align: right;\">\n",
       "      <th></th>\n",
       "      <th>disease</th>\n",
       "      <th>diag_dis</th>\n",
       "      <th>dom_hand</th>\n",
       "      <th>sex</th>\n",
       "      <th>wt_kg</th>\n",
       "      <th>ht_cm</th>\n",
       "      <th>eth_part</th>\n",
       "      <th>rac_part</th>\n",
       "      <th>moth_smk</th>\n",
       "      <th>BMI</th>\n",
       "    </tr>\n",
       "    <tr>\n",
       "      <th>BARCODE2</th>\n",
       "      <th></th>\n",
       "      <th></th>\n",
       "      <th></th>\n",
       "      <th></th>\n",
       "      <th></th>\n",
       "      <th></th>\n",
       "      <th></th>\n",
       "      <th></th>\n",
       "      <th></th>\n",
       "      <th></th>\n",
       "    </tr>\n",
       "  </thead>\n",
       "  <tbody>\n",
       "    <tr>\n",
       "      <th>AC000003</th>\n",
       "      <td>MS</td>\n",
       "      <td>CASE</td>\n",
       "      <td>LEFT</td>\n",
       "      <td>MALE</td>\n",
       "      <td>90.718474</td>\n",
       "      <td>180.34</td>\n",
       "      <td>Non Hispanic or Latino</td>\n",
       "      <td>White</td>\n",
       "      <td>True</td>\n",
       "      <td>27.894052</td>\n",
       "    </tr>\n",
       "    <tr>\n",
       "      <th>AC000005</th>\n",
       "      <td>MS</td>\n",
       "      <td>CASE</td>\n",
       "      <td>RIGHT</td>\n",
       "      <td>FEMALE</td>\n",
       "      <td>93.440028</td>\n",
       "      <td>167.64</td>\n",
       "      <td>Non Hispanic or Latino</td>\n",
       "      <td>White</td>\n",
       "      <td>True</td>\n",
       "      <td>33.248929</td>\n",
       "    </tr>\n",
       "    <tr>\n",
       "      <th>AC000006</th>\n",
       "      <td>CONTROL</td>\n",
       "      <td>CONTROL</td>\n",
       "      <td>RIGHT</td>\n",
       "      <td>FEMALE</td>\n",
       "      <td>102.058283</td>\n",
       "      <td>162.56</td>\n",
       "      <td>Non Hispanic or Latino</td>\n",
       "      <td>White</td>\n",
       "      <td>False</td>\n",
       "      <td>38.620765</td>\n",
       "    </tr>\n",
       "    <tr>\n",
       "      <th>AC000007</th>\n",
       "      <td>CONTROL</td>\n",
       "      <td>CONTROL</td>\n",
       "      <td>LEFT</td>\n",
       "      <td>MALE</td>\n",
       "      <td>79.832257</td>\n",
       "      <td>179.07</td>\n",
       "      <td>Non Hispanic or Latino</td>\n",
       "      <td>White</td>\n",
       "      <td>True</td>\n",
       "      <td>24.896181</td>\n",
       "    </tr>\n",
       "    <tr>\n",
       "      <th>AC000009</th>\n",
       "      <td>TM</td>\n",
       "      <td>CASE</td>\n",
       "      <td>RIGHT</td>\n",
       "      <td>FEMALE</td>\n",
       "      <td>58.967008</td>\n",
       "      <td>166.37</td>\n",
       "      <td>Non Hispanic or Latino</td>\n",
       "      <td>White</td>\n",
       "      <td>False</td>\n",
       "      <td>21.303897</td>\n",
       "    </tr>\n",
       "    <tr>\n",
       "      <th>...</th>\n",
       "      <td>...</td>\n",
       "      <td>...</td>\n",
       "      <td>...</td>\n",
       "      <td>...</td>\n",
       "      <td>...</td>\n",
       "      <td>...</td>\n",
       "      <td>...</td>\n",
       "      <td>...</td>\n",
       "      <td>...</td>\n",
       "      <td>...</td>\n",
       "    </tr>\n",
       "    <tr>\n",
       "      <th>PC001059</th>\n",
       "      <td>CONTROL</td>\n",
       "      <td>CONTROL</td>\n",
       "      <td>RIGHT</td>\n",
       "      <td>MALE</td>\n",
       "      <td>27.215542</td>\n",
       "      <td>132.08</td>\n",
       "      <td>Non Hispanic or Latino</td>\n",
       "      <td>White</td>\n",
       "      <td>True</td>\n",
       "      <td>15.600656</td>\n",
       "    </tr>\n",
       "    <tr>\n",
       "      <th>PC001064</th>\n",
       "      <td>CONTROL</td>\n",
       "      <td>CONTROL</td>\n",
       "      <td>RIGHT</td>\n",
       "      <td>FEMALE</td>\n",
       "      <td>58.967008</td>\n",
       "      <td>162.56</td>\n",
       "      <td>Non Hispanic or Latino</td>\n",
       "      <td>White</td>\n",
       "      <td>True</td>\n",
       "      <td>22.314220</td>\n",
       "    </tr>\n",
       "    <tr>\n",
       "      <th>PC001065</th>\n",
       "      <td>CONTROL</td>\n",
       "      <td>CONTROL</td>\n",
       "      <td>RIGHT</td>\n",
       "      <td>FEMALE</td>\n",
       "      <td>48.987976</td>\n",
       "      <td>165.10</td>\n",
       "      <td>Non Hispanic or Latino</td>\n",
       "      <td>White</td>\n",
       "      <td>True</td>\n",
       "      <td>17.971956</td>\n",
       "    </tr>\n",
       "    <tr>\n",
       "      <th>PC001069</th>\n",
       "      <td>CONTROL</td>\n",
       "      <td>CONTROL</td>\n",
       "      <td>LEFT</td>\n",
       "      <td>FEMALE</td>\n",
       "      <td>60.327785</td>\n",
       "      <td>175.26</td>\n",
       "      <td>Non Hispanic or Latino</td>\n",
       "      <td>White</td>\n",
       "      <td>True</td>\n",
       "      <td>19.640465</td>\n",
       "    </tr>\n",
       "    <tr>\n",
       "      <th>PC001070</th>\n",
       "      <td>CONTROL</td>\n",
       "      <td>CONTROL</td>\n",
       "      <td>RIGHT</td>\n",
       "      <td>FEMALE</td>\n",
       "      <td>34.473020</td>\n",
       "      <td>152.40</td>\n",
       "      <td>Non Hispanic or Latino</td>\n",
       "      <td>White</td>\n",
       "      <td>True</td>\n",
       "      <td>14.842580</td>\n",
       "    </tr>\n",
       "  </tbody>\n",
       "</table>\n",
       "<p>2992 rows × 10 columns</p>\n",
       "</div>"
      ],
      "text/plain": [
       "          disease diag_dis dom_hand     sex       wt_kg   ht_cm  \\\n",
       "BARCODE2                                                          \n",
       "AC000003       MS     CASE     LEFT    MALE   90.718474  180.34   \n",
       "AC000005       MS     CASE    RIGHT  FEMALE   93.440028  167.64   \n",
       "AC000006  CONTROL  CONTROL    RIGHT  FEMALE  102.058283  162.56   \n",
       "AC000007  CONTROL  CONTROL     LEFT    MALE   79.832257  179.07   \n",
       "AC000009       TM     CASE    RIGHT  FEMALE   58.967008  166.37   \n",
       "...           ...      ...      ...     ...         ...     ...   \n",
       "PC001059  CONTROL  CONTROL    RIGHT    MALE   27.215542  132.08   \n",
       "PC001064  CONTROL  CONTROL    RIGHT  FEMALE   58.967008  162.56   \n",
       "PC001065  CONTROL  CONTROL    RIGHT  FEMALE   48.987976  165.10   \n",
       "PC001069  CONTROL  CONTROL     LEFT  FEMALE   60.327785  175.26   \n",
       "PC001070  CONTROL  CONTROL    RIGHT  FEMALE   34.473020  152.40   \n",
       "\n",
       "                        eth_part rac_part moth_smk        BMI  \n",
       "BARCODE2                                                       \n",
       "AC000003  Non Hispanic or Latino    White     True  27.894052  \n",
       "AC000005  Non Hispanic or Latino    White     True  33.248929  \n",
       "AC000006  Non Hispanic or Latino    White    False  38.620765  \n",
       "AC000007  Non Hispanic or Latino    White     True  24.896181  \n",
       "AC000009  Non Hispanic or Latino    White    False  21.303897  \n",
       "...                          ...      ...      ...        ...  \n",
       "PC001059  Non Hispanic or Latino    White     True  15.600656  \n",
       "PC001064  Non Hispanic or Latino    White     True  22.314220  \n",
       "PC001065  Non Hispanic or Latino    White     True  17.971956  \n",
       "PC001069  Non Hispanic or Latino    White     True  19.640465  \n",
       "PC001070  Non Hispanic or Latino    White     True  14.842580  \n",
       "\n",
       "[2992 rows x 10 columns]"
      ]
     },
     "execution_count": 10,
     "metadata": {},
     "output_type": "execute_result"
    }
   ],
   "source": [
    "ms['BMI'] = [((w)/((h/100)**2)) for w,h in zip(ms['wt_kg'], ms['ht_cm'])]\n",
    "ms"
   ]
  },
  {
   "cell_type": "code",
   "execution_count": 15,
   "id": "628f9564",
   "metadata": {},
   "outputs": [
    {
     "data": {
      "text/plain": [
       "195.30862392354553"
      ]
     },
     "execution_count": 15,
     "metadata": {},
     "output_type": "execute_result"
    }
   ],
   "source": [
    "ms.BMI.max()"
   ]
  },
  {
   "cell_type": "code",
   "execution_count": 23,
   "id": "0ab035c4",
   "metadata": {},
   "outputs": [],
   "source": [
    "ms.loc[ms['BMI'] == ms['BMI'].max()]\n",
    "ms.drop('AC003531', inplace=True)"
   ]
  },
  {
   "cell_type": "code",
   "execution_count": 24,
   "id": "2da9a17b",
   "metadata": {},
   "outputs": [
    {
     "data": {
      "text/plain": [
       "65.84418539804823"
      ]
     },
     "execution_count": 24,
     "metadata": {},
     "output_type": "execute_result"
    }
   ],
   "source": [
    "ms.BMI.max()"
   ]
  },
  {
   "cell_type": "markdown",
   "id": "4f3b7298",
   "metadata": {},
   "source": [
    "Is there a difference in the distribution of body mass index (BMI) between case and control patients?"
   ]
  },
  {
   "cell_type": "code",
   "execution_count": 41,
   "id": "a7e15b70",
   "metadata": {},
   "outputs": [
    {
     "data": {
      "text/plain": [
       "<AxesSubplot:xlabel='BMI', ylabel='Density'>"
      ]
     },
     "execution_count": 41,
     "metadata": {},
     "output_type": "execute_result"
    },
    {
     "data": {
      "image/png": "[encoded data removed]",
      "text/plain": [
       "<Figure size 842.4x595.44 with 1 Axes>"
      ]
     },
     "metadata": {},
     "output_type": "display_data"
    }
   ],
   "source": [
    "sns.set(rc={'figure.figsize':(11.7, 8.27)})\n",
    "sns.kdeplot(data=ms, x='BMI', hue='diag_dis', shade=True, linewidth=0, palette='BuPu')"
   ]
  },
  {
   "cell_type": "markdown",
   "id": "c5a31efc",
   "metadata": {},
   "source": [
    "Can you add sex as a dimension to the above question?"
   ]
  },
  {
   "cell_type": "code",
   "execution_count": 38,
   "id": "2d7f6253",
   "metadata": {},
   "outputs": [
    {
     "data": {
      "text/plain": [
       "<seaborn.axisgrid.FacetGrid at 0x1f1543c1e20>"
      ]
     },
     "execution_count": 38,
     "metadata": {},
     "output_type": "execute_result"
    },
    {
     "data": {
      "image/png": "[encoded data removed]",
      "text/plain": [
       "<Figure size 443.35x360 with 1 Axes>"
      ]
     },
     "metadata": {},
     "output_type": "display_data"
    }
   ],
   "source": [
    "sns.set(rc={'figure.figsize':(11.7, 8.27)})\n",
    "sns.catplot(data=ms, kind=\"violin\", x=\"diag_dis\", y=\"BMI\", hue=\"sex\", split=True, linewidth=2, palette='crest')"
   ]
  },
  {
   "cell_type": "markdown",
   "id": "11c10c55",
   "metadata": {},
   "source": [
    "Does race have effect on the ratio of case vs. control?"
   ]
  },
  {
   "cell_type": "code",
   "execution_count": 79,
   "id": "ee9733ce",
   "metadata": {},
   "outputs": [
    {
     "data": {
      "text/plain": [
       "['White',\n",
       " 'Black or African American',\n",
       " 'Other Asian',\n",
       " 'Middle Eastern',\n",
       " 'Native Hawaiian or other Pacific Islander',\n",
       " 'South Asian',\n",
       " 'Unknown',\n",
       " 'American Indian or Alaska native',\n",
       " nan]"
      ]
     },
     "execution_count": 79,
     "metadata": {},
     "output_type": "execute_result"
    }
   ],
   "source": [
    "races = list(pd.unique(ms['rac_part']))\n",
    "races"
   ]
  },
  {
   "cell_type": "code",
   "execution_count": 80,
   "id": "bd158eee",
   "metadata": {},
   "outputs": [
    {
     "data": {
      "image/png": "[encoded data removed]",
      "text/plain": [
       "<Figure size 842.4x595.44 with 1 Axes>"
      ]
     },
     "metadata": {},
     "output_type": "display_data"
    }
   ],
   "source": [
    "for r in races:\n",
    "    r = ms.loc[ms['rac_part'] == r, ['rac_part', 'diag_dis']].groupby('diag_dis').diag_dis.count()\n",
    "    plt.title('White')\n",
    "    plt.pie(r, labels=r.index, autopct='%1.0f%%', colors=['#7DC8CA', '#CAE9E0'])"
   ]
  },
  {
   "cell_type": "code",
   "execution_count": null,
   "id": "e67b4375",
   "metadata": {},
   "outputs": [],
   "source": [
    "for r in races:\n",
    "    r = ms.loc[ms['rac_part'] == r, ['rac_part', 'diag_dis']].groupby('diag_dis').diag_dis.count()\n",
    "    plt.title('White')\n",
    "    plt.pie(r, labels=r.index, autopct='%1.0f%%', colors=['#7DC8CA', '#CAE9E0'])"
   ]
  }
 ],
 "metadata": {
  "kernelspec": {
   "display_name": "Python 3 (ipykernel)",
   "language": "python",
   "name": "python3"
  },
  "language_info": {
   "codemirror_mode": {
    "name": "ipython",
    "version": 3
   },
   "file_extension": ".py",
   "mimetype": "text/x-python",
   "name": "python",
   "nbconvert_exporter": "python",
   "pygments_lexer": "ipython3",
   "version": "3.9.12"
  }
 },
 "nbformat": 4,
 "nbformat_minor": 5
}
