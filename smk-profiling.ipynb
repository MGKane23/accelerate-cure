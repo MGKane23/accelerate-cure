{
 "cells": [
  {
   "cell_type": "code",
   "execution_count": null,
   "id": "17fd20fb",
   "metadata": {},
   "outputs": [],
   "source": [
    "import pandas as pd\n",
    "import pandas_profiling"
   ]
  },
  {
   "cell_type": "code",
   "execution_count": null,
   "id": "5cfed4be",
   "metadata": {},
   "outputs": [],
   "source": [
    "smk_data = pd.read_csv('data/smk.csv', index_col = 'BARCODE2')\n",
    "smk_data"
   ]
  },
  {
   "cell_type": "markdown",
   "id": "1cc92d21",
   "metadata": {},
   "source": [
    "# Profile Report & Findings"
   ]
  },
  {
   "cell_type": "code",
   "execution_count": 7,
   "id": "42f6d14a",
   "metadata": {},
   "outputs": [
    {
     "data": {
      "application/vnd.jupyter.widget-view+json": {
       "model_id": "e5864b4e10094b2b8c74c9c7c684eeae",
       "version_major": 2,
       "version_minor": 0
      },
      "text/plain": [
       "Summarize dataset:   0%|          | 0/29 [00:00<?, ?it/s]"
      ]
     },
     "metadata": {},
     "output_type": "display_data"
    },
    {
     "data": {
      "application/vnd.jupyter.widget-view+json": {
       "model_id": "8fa8a9db9e484708ae6a4d57a7f0624e",
       "version_major": 2,
       "version_minor": 0
      },
      "text/plain": [
       "Generate report structure:   0%|          | 0/1 [00:00<?, ?it/s]"
      ]
     },
     "metadata": {},
     "output_type": "display_data"
    },
    {
     "data": {
      "application/vnd.jupyter.widget-view+json": {
       "model_id": "13a7f948aadb4980a361f1210ec808ef",
       "version_major": 2,
       "version_minor": 0
      },
      "text/plain": [
       "Render HTML:   0%|          | 0/1 [00:00<?, ?it/s]"
      ]
     },
     "metadata": {},
     "output_type": "display_data"
    },
    {
     "data": {
      "application/vnd.jupyter.widget-view+json": {
       "model_id": "844a76c04f5d4c87bb6b2cdc4948144a",
       "version_major": 2,
       "version_minor": 0
      },
      "text/plain": [
       "Export report to file:   0%|          | 0/1 [00:00<?, ?it/s]"
      ]
     },
     "metadata": {},
     "output_type": "display_data"
    }
   ],
   "source": [
    "profile = smk_data.profile_report(title='Smoking Data Profiling')\n",
    "profile.to_file(output_file='smk_data-profiling.html')"
   ]
  },
  {
   "cell_type": "markdown",
   "id": "12f000ff",
   "metadata": {},
   "source": [
    "#### Profile Report Notes"
   ]
  },
  {
   "cell_type": "code",
   "execution_count": null,
   "id": "ba5fdd9d",
   "metadata": {},
   "outputs": [],
   "source": []
  }
 ],
 "metadata": {
  "kernelspec": {
   "display_name": "Python 3 (ipykernel)",
   "language": "python",
   "name": "python3"
  },
  "language_info": {
   "codemirror_mode": {
    "name": "ipython",
    "version": 3
   },
   "file_extension": ".py",
   "mimetype": "text/x-python",
   "name": "python",
   "nbconvert_exporter": "python",
   "pygments_lexer": "ipython3",
   "version": "3.9.13"
  }
 },
 "nbformat": 4,
 "nbformat_minor": 5
}
