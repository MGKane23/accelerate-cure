{
 "cells": [
  {
   "cell_type": "code",
   "execution_count": 1,
   "id": "193150ec",
   "metadata": {},
   "outputs": [],
   "source": [
    "import pandas as pd\n",
    "import seaborn as sns"
   ]
  },
  {
   "cell_type": "code",
   "execution_count": 2,
   "id": "3a5bff17",
   "metadata": {},
   "outputs": [],
   "source": [
    "parts = pd.read_pickle('pkl/parts.pkl')"
   ]
  },
  {
   "cell_type": "code",
   "execution_count": 3,
   "id": "93fa9f29",
   "metadata": {},
   "outputs": [
    {
     "data": {
      "text/html": [
       "<div>\n",
       "<style scoped>\n",
       "    .dataframe tbody tr th:only-of-type {\n",
       "        vertical-align: middle;\n",
       "    }\n",
       "\n",
       "    .dataframe tbody tr th {\n",
       "        vertical-align: top;\n",
       "    }\n",
       "\n",
       "    .dataframe thead th {\n",
       "        text-align: right;\n",
       "    }\n",
       "</style>\n",
       "<table border=\"1\" class=\"dataframe\">\n",
       "  <thead>\n",
       "    <tr style=\"text-align: right;\">\n",
       "      <th></th>\n",
       "      <th>disease</th>\n",
       "      <th>diag_dis</th>\n",
       "      <th>dom_hand</th>\n",
       "      <th>sex</th>\n",
       "      <th>wt_kg</th>\n",
       "      <th>ht_cm</th>\n",
       "      <th>eth_part</th>\n",
       "      <th>rac_part</th>\n",
       "      <th>moth_smk</th>\n",
       "      <th>BMI</th>\n",
       "    </tr>\n",
       "    <tr>\n",
       "      <th>BARCODE2</th>\n",
       "      <th></th>\n",
       "      <th></th>\n",
       "      <th></th>\n",
       "      <th></th>\n",
       "      <th></th>\n",
       "      <th></th>\n",
       "      <th></th>\n",
       "      <th></th>\n",
       "      <th></th>\n",
       "      <th></th>\n",
       "    </tr>\n",
       "  </thead>\n",
       "  <tbody>\n",
       "    <tr>\n",
       "      <th>AC000003</th>\n",
       "      <td>MS</td>\n",
       "      <td>CASE</td>\n",
       "      <td>LEFT</td>\n",
       "      <td>MALE</td>\n",
       "      <td>90.718474</td>\n",
       "      <td>180.34</td>\n",
       "      <td>Non Hispanic or Latino</td>\n",
       "      <td>White</td>\n",
       "      <td>True</td>\n",
       "      <td>27.894052</td>\n",
       "    </tr>\n",
       "    <tr>\n",
       "      <th>AC000005</th>\n",
       "      <td>MS</td>\n",
       "      <td>CASE</td>\n",
       "      <td>RIGHT</td>\n",
       "      <td>FEMALE</td>\n",
       "      <td>93.440028</td>\n",
       "      <td>167.64</td>\n",
       "      <td>Non Hispanic or Latino</td>\n",
       "      <td>White</td>\n",
       "      <td>True</td>\n",
       "      <td>33.248929</td>\n",
       "    </tr>\n",
       "    <tr>\n",
       "      <th>AC000006</th>\n",
       "      <td>CONTROL</td>\n",
       "      <td>CONTROL</td>\n",
       "      <td>RIGHT</td>\n",
       "      <td>FEMALE</td>\n",
       "      <td>102.058283</td>\n",
       "      <td>162.56</td>\n",
       "      <td>Non Hispanic or Latino</td>\n",
       "      <td>White</td>\n",
       "      <td>False</td>\n",
       "      <td>38.620765</td>\n",
       "    </tr>\n",
       "    <tr>\n",
       "      <th>AC000007</th>\n",
       "      <td>CONTROL</td>\n",
       "      <td>CONTROL</td>\n",
       "      <td>LEFT</td>\n",
       "      <td>MALE</td>\n",
       "      <td>79.832257</td>\n",
       "      <td>179.07</td>\n",
       "      <td>Non Hispanic or Latino</td>\n",
       "      <td>White</td>\n",
       "      <td>True</td>\n",
       "      <td>24.896181</td>\n",
       "    </tr>\n",
       "    <tr>\n",
       "      <th>AC000009</th>\n",
       "      <td>TM</td>\n",
       "      <td>CASE</td>\n",
       "      <td>RIGHT</td>\n",
       "      <td>FEMALE</td>\n",
       "      <td>58.967008</td>\n",
       "      <td>166.37</td>\n",
       "      <td>Non Hispanic or Latino</td>\n",
       "      <td>White</td>\n",
       "      <td>False</td>\n",
       "      <td>21.303897</td>\n",
       "    </tr>\n",
       "    <tr>\n",
       "      <th>...</th>\n",
       "      <td>...</td>\n",
       "      <td>...</td>\n",
       "      <td>...</td>\n",
       "      <td>...</td>\n",
       "      <td>...</td>\n",
       "      <td>...</td>\n",
       "      <td>...</td>\n",
       "      <td>...</td>\n",
       "      <td>...</td>\n",
       "      <td>...</td>\n",
       "    </tr>\n",
       "    <tr>\n",
       "      <th>PC001059</th>\n",
       "      <td>CONTROL</td>\n",
       "      <td>CONTROL</td>\n",
       "      <td>RIGHT</td>\n",
       "      <td>MALE</td>\n",
       "      <td>27.215542</td>\n",
       "      <td>132.08</td>\n",
       "      <td>Non Hispanic or Latino</td>\n",
       "      <td>White</td>\n",
       "      <td>True</td>\n",
       "      <td>15.600656</td>\n",
       "    </tr>\n",
       "    <tr>\n",
       "      <th>PC001064</th>\n",
       "      <td>CONTROL</td>\n",
       "      <td>CONTROL</td>\n",
       "      <td>RIGHT</td>\n",
       "      <td>FEMALE</td>\n",
       "      <td>58.967008</td>\n",
       "      <td>162.56</td>\n",
       "      <td>Non Hispanic or Latino</td>\n",
       "      <td>White</td>\n",
       "      <td>True</td>\n",
       "      <td>22.314220</td>\n",
       "    </tr>\n",
       "    <tr>\n",
       "      <th>PC001065</th>\n",
       "      <td>CONTROL</td>\n",
       "      <td>CONTROL</td>\n",
       "      <td>RIGHT</td>\n",
       "      <td>FEMALE</td>\n",
       "      <td>48.987976</td>\n",
       "      <td>165.10</td>\n",
       "      <td>Non Hispanic or Latino</td>\n",
       "      <td>White</td>\n",
       "      <td>True</td>\n",
       "      <td>17.971956</td>\n",
       "    </tr>\n",
       "    <tr>\n",
       "      <th>PC001069</th>\n",
       "      <td>CONTROL</td>\n",
       "      <td>CONTROL</td>\n",
       "      <td>LEFT</td>\n",
       "      <td>FEMALE</td>\n",
       "      <td>60.327785</td>\n",
       "      <td>175.26</td>\n",
       "      <td>Non Hispanic or Latino</td>\n",
       "      <td>White</td>\n",
       "      <td>True</td>\n",
       "      <td>19.640465</td>\n",
       "    </tr>\n",
       "    <tr>\n",
       "      <th>PC001070</th>\n",
       "      <td>CONTROL</td>\n",
       "      <td>CONTROL</td>\n",
       "      <td>RIGHT</td>\n",
       "      <td>FEMALE</td>\n",
       "      <td>34.473020</td>\n",
       "      <td>152.40</td>\n",
       "      <td>Non Hispanic or Latino</td>\n",
       "      <td>White</td>\n",
       "      <td>True</td>\n",
       "      <td>14.842580</td>\n",
       "    </tr>\n",
       "  </tbody>\n",
       "</table>\n",
       "<p>2992 rows × 10 columns</p>\n",
       "</div>"
      ],
      "text/plain": [
       "          disease diag_dis dom_hand     sex       wt_kg   ht_cm  \\\n",
       "BARCODE2                                                          \n",
       "AC000003       MS     CASE     LEFT    MALE   90.718474  180.34   \n",
       "AC000005       MS     CASE    RIGHT  FEMALE   93.440028  167.64   \n",
       "AC000006  CONTROL  CONTROL    RIGHT  FEMALE  102.058283  162.56   \n",
       "AC000007  CONTROL  CONTROL     LEFT    MALE   79.832257  179.07   \n",
       "AC000009       TM     CASE    RIGHT  FEMALE   58.967008  166.37   \n",
       "...           ...      ...      ...     ...         ...     ...   \n",
       "PC001059  CONTROL  CONTROL    RIGHT    MALE   27.215542  132.08   \n",
       "PC001064  CONTROL  CONTROL    RIGHT  FEMALE   58.967008  162.56   \n",
       "PC001065  CONTROL  CONTROL    RIGHT  FEMALE   48.987976  165.10   \n",
       "PC001069  CONTROL  CONTROL     LEFT  FEMALE   60.327785  175.26   \n",
       "PC001070  CONTROL  CONTROL    RIGHT  FEMALE   34.473020  152.40   \n",
       "\n",
       "                        eth_part rac_part moth_smk        BMI  \n",
       "BARCODE2                                                       \n",
       "AC000003  Non Hispanic or Latino    White     True  27.894052  \n",
       "AC000005  Non Hispanic or Latino    White     True  33.248929  \n",
       "AC000006  Non Hispanic or Latino    White    False  38.620765  \n",
       "AC000007  Non Hispanic or Latino    White     True  24.896181  \n",
       "AC000009  Non Hispanic or Latino    White    False  21.303897  \n",
       "...                          ...      ...      ...        ...  \n",
       "PC001059  Non Hispanic or Latino    White     True  15.600656  \n",
       "PC001064  Non Hispanic or Latino    White     True  22.314220  \n",
       "PC001065  Non Hispanic or Latino    White     True  17.971956  \n",
       "PC001069  Non Hispanic or Latino    White     True  19.640465  \n",
       "PC001070  Non Hispanic or Latino    White     True  14.842580  \n",
       "\n",
       "[2992 rows x 10 columns]"
      ]
     },
     "execution_count": 3,
     "metadata": {},
     "output_type": "execute_result"
    }
   ],
   "source": [
    "parts['BMI'] = parts['wt_kg']/((parts['ht_cm']/100)**2)\n",
    "parts"
   ]
  },
  {
   "cell_type": "code",
   "execution_count": 4,
   "id": "2efb6aef",
   "metadata": {},
   "outputs": [],
   "source": [
    "outlier = parts.BMI.idxmax()\n",
    "parts.drop(outlier, inplace = True)"
   ]
  },
  {
   "cell_type": "code",
   "execution_count": 5,
   "id": "3c59214f",
   "metadata": {},
   "outputs": [
    {
     "data": {
      "text/plain": [
       "<AxesSubplot:xlabel='BMI', ylabel='Density'>"
      ]
     },
     "execution_count": 5,
     "metadata": {},
     "output_type": "execute_result"
    },
    {
     "data": {
      "image/png": "[encoded data removed]",
      "text/plain": [
       "<Figure size 432x288 with 1 Axes>"
      ]
     },
     "metadata": {
      "needs_background": "light"
     },
     "output_type": "display_data"
    }
   ],
   "source": [
    "sns.kdeplot(data = parts, x = 'BMI', hue = 'diag_dis', shade = True)"
   ]
  },
  {
   "cell_type": "code",
   "execution_count": 6,
   "id": "3cf38a07",
   "metadata": {},
   "outputs": [
    {
     "data": {
      "text/plain": [
       "<seaborn.axisgrid.FacetGrid at 0x7feead0a1a30>"
      ]
     },
     "execution_count": 6,
     "metadata": {},
     "output_type": "execute_result"
    },
    {
     "data": {
      "image/png": "[encoded data removed]",
      "text/plain": [
       "<Figure size 435.25x360 with 1 Axes>"
      ]
     },
     "metadata": {
      "needs_background": "light"
     },
     "output_type": "display_data"
    }
   ],
   "source": [
    "sns.catplot(data=parts, kind='violin', x='diag_dis', y = 'BMI', hue = 'sex', split = True)"
   ]
  },
  {
   "cell_type": "code",
   "execution_count": 7,
   "id": "934684cd",
   "metadata": {},
   "outputs": [
    {
     "data": {
      "text/plain": [
       "<seaborn.axisgrid.FacetGrid at 0x7feead2b6a90>"
      ]
     },
     "execution_count": 7,
     "metadata": {},
     "output_type": "execute_result"
    },
    {
     "data": {
      "image/png": "[encoded data removed]",
      "text/plain": [
       "<Figure size 435.25x360 with 1 Axes>"
      ]
     },
     "metadata": {
      "needs_background": "light"
     },
     "output_type": "display_data"
    }
   ],
   "source": [
    "sns.catplot(data=parts, kind='box', x='diag_dis', y = 'BMI', hue = 'sex')"
   ]
  },
  {
   "cell_type": "code",
   "execution_count": 8,
   "id": "076342e7",
   "metadata": {},
   "outputs": [
    {
     "data": {
      "text/plain": [
       "<seaborn.axisgrid.FacetGrid at 0x7feead2e4730>"
      ]
     },
     "execution_count": 8,
     "metadata": {},
     "output_type": "execute_result"
    },
    {
     "data": {
      "image/png": "[encoded data removed]",
      "text/plain": [
       "<Figure size 421.25x360 with 1 Axes>"
      ]
     },
     "metadata": {
      "needs_background": "light"
     },
     "output_type": "display_data"
    }
   ],
   "source": [
    "sns.catplot(data=parts, kind='violin', x='diag_dis', y = 'BMI', hue = 'moth_smk', split = True)"
   ]
  },
  {
   "cell_type": "code",
   "execution_count": 9,
   "id": "1e868c59",
   "metadata": {},
   "outputs": [
    {
     "data": {
      "text/plain": [
       "CASE       2301\n",
       "CONTROL     688\n",
       "Name: diag_dis, dtype: int64"
      ]
     },
     "execution_count": 9,
     "metadata": {},
     "output_type": "execute_result"
    }
   ],
   "source": [
    "parts.diag_dis.value_counts()"
   ]
  },
  {
   "cell_type": "code",
   "execution_count": 10,
   "id": "e073f4d2",
   "metadata": {},
   "outputs": [
    {
     "data": {
      "text/plain": [
       "diag_dis  moth_smk\n",
       "CASE      True        1474\n",
       "          False        541\n",
       "CONTROL   True         433\n",
       "          False        172\n",
       "Name: moth_smk, dtype: int64"
      ]
     },
     "execution_count": 10,
     "metadata": {},
     "output_type": "execute_result"
    }
   ],
   "source": [
    "moth_smk_by_diag = parts.moth_smk.groupby(parts['diag_dis']).value_counts()\n",
    "moth_smk_by_diag\n"
   ]
  },
  {
   "cell_type": "code",
   "execution_count": 11,
   "id": "3fcc6b44",
   "metadata": {},
   "outputs": [],
   "source": [
    "# sns.catplot(data=parts, kind = 'bar', x='diag_dis', y=, hue = 'moth_smk')\n",
    "# sns.catplot(data=parts, kind = 'bar', x=moth_smk_by_diag.index, y = moth_smk_by_diag, hue = 'moth_smk')"
   ]
  },
  {
   "cell_type": "code",
   "execution_count": 12,
   "id": "23edd05e",
   "metadata": {},
   "outputs": [
    {
     "data": {
      "text/plain": [
       "<AxesSubplot:xlabel='diag_dis'>"
      ]
     },
     "execution_count": 12,
     "metadata": {},
     "output_type": "execute_result"
    },
    {
     "data": {
      "image/png": "[encoded data removed]",
      "text/plain": [
       "<Figure size 432x288 with 1 Axes>"
      ]
     },
     "metadata": {
      "needs_background": "light"
     },
     "output_type": "display_data"
    }
   ],
   "source": [
    "moth_smk_by_diag.unstack().plot(kind='bar')"
   ]
  },
  {
   "cell_type": "markdown",
   "id": "45e6c2ee",
   "metadata": {},
   "source": [
    "#### Citation for data.unstack().plot(kind='bar'): https://stackoverflow.com/questions/34248741/plotting-pandas-multiindex-bar-chart"
   ]
  },
  {
   "cell_type": "code",
   "execution_count": 167,
   "id": "86b73d1c",
   "metadata": {},
   "outputs": [
    {
     "data": {
      "text/html": [
       "<div>\n",
       "<style scoped>\n",
       "    .dataframe tbody tr th:only-of-type {\n",
       "        vertical-align: middle;\n",
       "    }\n",
       "\n",
       "    .dataframe tbody tr th {\n",
       "        vertical-align: top;\n",
       "    }\n",
       "\n",
       "    .dataframe thead th {\n",
       "        text-align: right;\n",
       "    }\n",
       "</style>\n",
       "<table border=\"1\" class=\"dataframe\">\n",
       "  <thead>\n",
       "    <tr style=\"text-align: right;\">\n",
       "      <th>moth_smk</th>\n",
       "      <th>False</th>\n",
       "      <th>True</th>\n",
       "    </tr>\n",
       "    <tr>\n",
       "      <th>diag_dis</th>\n",
       "      <th></th>\n",
       "      <th></th>\n",
       "    </tr>\n",
       "  </thead>\n",
       "  <tbody>\n",
       "    <tr>\n",
       "      <th>CASE</th>\n",
       "      <td>541</td>\n",
       "      <td>1474</td>\n",
       "    </tr>\n",
       "    <tr>\n",
       "      <th>CONTROL</th>\n",
       "      <td>172</td>\n",
       "      <td>433</td>\n",
       "    </tr>\n",
       "  </tbody>\n",
       "</table>\n",
       "</div>"
      ],
      "text/plain": [
       "moth_smk  False  True\n",
       "diag_dis             \n",
       "CASE        541  1474\n",
       "CONTROL     172   433"
      ]
     },
     "execution_count": 167,
     "metadata": {},
     "output_type": "execute_result"
    }
   ],
   "source": [
    "unstacked = moth_smk_by_diag.unstack()\n",
    "unstacked"
   ]
  },
  {
   "cell_type": "code",
   "execution_count": 166,
   "id": "6c618f7b",
   "metadata": {},
   "outputs": [
    {
     "ename": "AttributeError",
     "evalue": "'DataFrameGroupBy' object has no attribute 'CASE'",
     "output_type": "error",
     "traceback": [
      "\u001b[0;31m---------------------------------------------------------------------------\u001b[0m",
      "\u001b[0;31mAttributeError\u001b[0m                            Traceback (most recent call last)",
      "Input \u001b[0;32mIn [166]\u001b[0m, in \u001b[0;36m<cell line: 1>\u001b[0;34m()\u001b[0m\n\u001b[0;32m----> 1\u001b[0m piepattss \u001b[38;5;241m=\u001b[39m \u001b[43munstacked\u001b[49m\u001b[38;5;241;43m.\u001b[39;49m\u001b[43mgroupby\u001b[49m\u001b[43m(\u001b[49m\u001b[38;5;124;43m'\u001b[39;49m\u001b[38;5;124;43mdiag_dis\u001b[39;49m\u001b[38;5;124;43m'\u001b[39;49m\u001b[43m)\u001b[49m\u001b[38;5;241;43m.\u001b[39;49m\u001b[43mCASE\u001b[49m\n",
      "File \u001b[0;32m~/opt/anaconda3/lib/python3.9/site-packages/pandas/core/groupby/groupby.py:904\u001b[0m, in \u001b[0;36mGroupBy.__getattr__\u001b[0;34m(self, attr)\u001b[0m\n\u001b[1;32m    901\u001b[0m \u001b[38;5;28;01mif\u001b[39;00m attr \u001b[38;5;129;01min\u001b[39;00m \u001b[38;5;28mself\u001b[39m\u001b[38;5;241m.\u001b[39mobj:\n\u001b[1;32m    902\u001b[0m     \u001b[38;5;28;01mreturn\u001b[39;00m \u001b[38;5;28mself\u001b[39m[attr]\n\u001b[0;32m--> 904\u001b[0m \u001b[38;5;28;01mraise\u001b[39;00m \u001b[38;5;167;01mAttributeError\u001b[39;00m(\n\u001b[1;32m    905\u001b[0m     \u001b[38;5;124mf\u001b[39m\u001b[38;5;124m\"\u001b[39m\u001b[38;5;124m'\u001b[39m\u001b[38;5;132;01m{\u001b[39;00m\u001b[38;5;28mtype\u001b[39m(\u001b[38;5;28mself\u001b[39m)\u001b[38;5;241m.\u001b[39m\u001b[38;5;18m__name__\u001b[39m\u001b[38;5;132;01m}\u001b[39;00m\u001b[38;5;124m'\u001b[39m\u001b[38;5;124m object has no attribute \u001b[39m\u001b[38;5;124m'\u001b[39m\u001b[38;5;132;01m{\u001b[39;00mattr\u001b[38;5;132;01m}\u001b[39;00m\u001b[38;5;124m'\u001b[39m\u001b[38;5;124m\"\u001b[39m\n\u001b[1;32m    906\u001b[0m )\n",
      "\u001b[0;31mAttributeError\u001b[0m: 'DataFrameGroupBy' object has no attribute 'CASE'"
     ]
    }
   ],
   "source": [
    "piepattss = unstacked.groupby('diag_dis').CASE"
   ]
  },
  {
   "cell_type": "code",
   "execution_count": 102,
   "id": "b0caaad4",
   "metadata": {},
   "outputs": [
    {
     "data": {
      "text/plain": [
       "BARCODE2\n",
       "AC000003    1.0\n",
       "AC000005    1.0\n",
       "AC000006    0.0\n",
       "AC000007    1.0\n",
       "AC000009    0.0\n",
       "           ... \n",
       "PC001059    1.0\n",
       "PC001064    1.0\n",
       "PC001065    1.0\n",
       "PC001069    1.0\n",
       "PC001070    1.0\n",
       "Name: moth_smk, Length: 2991, dtype: float64"
      ]
     },
     "execution_count": 102,
     "metadata": {},
     "output_type": "execute_result"
    }
   ],
   "source": [
    "newparts = parts.copy()"
   ]
  },
  {
   "cell_type": "code",
   "execution_count": 109,
   "id": "65be5cc9",
   "metadata": {},
   "outputs": [
    {
     "data": {
      "text/html": [
       "<div>\n",
       "<style scoped>\n",
       "    .dataframe tbody tr th:only-of-type {\n",
       "        vertical-align: middle;\n",
       "    }\n",
       "\n",
       "    .dataframe tbody tr th {\n",
       "        vertical-align: top;\n",
       "    }\n",
       "\n",
       "    .dataframe thead th {\n",
       "        text-align: right;\n",
       "    }\n",
       "</style>\n",
       "<table border=\"1\" class=\"dataframe\">\n",
       "  <thead>\n",
       "    <tr style=\"text-align: right;\">\n",
       "      <th></th>\n",
       "      <th>disease</th>\n",
       "      <th>diag_dis</th>\n",
       "      <th>dom_hand</th>\n",
       "      <th>sex</th>\n",
       "      <th>wt_kg</th>\n",
       "      <th>ht_cm</th>\n",
       "      <th>eth_part</th>\n",
       "      <th>rac_part</th>\n",
       "      <th>moth_smk</th>\n",
       "      <th>BMI</th>\n",
       "    </tr>\n",
       "    <tr>\n",
       "      <th>BARCODE2</th>\n",
       "      <th></th>\n",
       "      <th></th>\n",
       "      <th></th>\n",
       "      <th></th>\n",
       "      <th></th>\n",
       "      <th></th>\n",
       "      <th></th>\n",
       "      <th></th>\n",
       "      <th></th>\n",
       "      <th></th>\n",
       "    </tr>\n",
       "  </thead>\n",
       "  <tbody>\n",
       "    <tr>\n",
       "      <th>AC000003</th>\n",
       "      <td>MS</td>\n",
       "      <td>CASE</td>\n",
       "      <td>LEFT</td>\n",
       "      <td>MALE</td>\n",
       "      <td>90.718474</td>\n",
       "      <td>180.34</td>\n",
       "      <td>Non Hispanic or Latino</td>\n",
       "      <td>White</td>\n",
       "      <td>True</td>\n",
       "      <td>27.894052</td>\n",
       "    </tr>\n",
       "    <tr>\n",
       "      <th>AC000005</th>\n",
       "      <td>MS</td>\n",
       "      <td>CASE</td>\n",
       "      <td>RIGHT</td>\n",
       "      <td>FEMALE</td>\n",
       "      <td>93.440028</td>\n",
       "      <td>167.64</td>\n",
       "      <td>Non Hispanic or Latino</td>\n",
       "      <td>White</td>\n",
       "      <td>True</td>\n",
       "      <td>33.248929</td>\n",
       "    </tr>\n",
       "    <tr>\n",
       "      <th>AC000006</th>\n",
       "      <td>CONTROL</td>\n",
       "      <td>CONTROL</td>\n",
       "      <td>RIGHT</td>\n",
       "      <td>FEMALE</td>\n",
       "      <td>102.058283</td>\n",
       "      <td>162.56</td>\n",
       "      <td>Non Hispanic or Latino</td>\n",
       "      <td>White</td>\n",
       "      <td>False</td>\n",
       "      <td>38.620765</td>\n",
       "    </tr>\n",
       "    <tr>\n",
       "      <th>AC000007</th>\n",
       "      <td>CONTROL</td>\n",
       "      <td>CONTROL</td>\n",
       "      <td>LEFT</td>\n",
       "      <td>MALE</td>\n",
       "      <td>79.832257</td>\n",
       "      <td>179.07</td>\n",
       "      <td>Non Hispanic or Latino</td>\n",
       "      <td>White</td>\n",
       "      <td>True</td>\n",
       "      <td>24.896181</td>\n",
       "    </tr>\n",
       "    <tr>\n",
       "      <th>AC000009</th>\n",
       "      <td>TM</td>\n",
       "      <td>CASE</td>\n",
       "      <td>RIGHT</td>\n",
       "      <td>FEMALE</td>\n",
       "      <td>58.967008</td>\n",
       "      <td>166.37</td>\n",
       "      <td>Non Hispanic or Latino</td>\n",
       "      <td>White</td>\n",
       "      <td>False</td>\n",
       "      <td>21.303897</td>\n",
       "    </tr>\n",
       "    <tr>\n",
       "      <th>...</th>\n",
       "      <td>...</td>\n",
       "      <td>...</td>\n",
       "      <td>...</td>\n",
       "      <td>...</td>\n",
       "      <td>...</td>\n",
       "      <td>...</td>\n",
       "      <td>...</td>\n",
       "      <td>...</td>\n",
       "      <td>...</td>\n",
       "      <td>...</td>\n",
       "    </tr>\n",
       "    <tr>\n",
       "      <th>PC001059</th>\n",
       "      <td>CONTROL</td>\n",
       "      <td>CONTROL</td>\n",
       "      <td>RIGHT</td>\n",
       "      <td>MALE</td>\n",
       "      <td>27.215542</td>\n",
       "      <td>132.08</td>\n",
       "      <td>Non Hispanic or Latino</td>\n",
       "      <td>White</td>\n",
       "      <td>True</td>\n",
       "      <td>15.600656</td>\n",
       "    </tr>\n",
       "    <tr>\n",
       "      <th>PC001064</th>\n",
       "      <td>CONTROL</td>\n",
       "      <td>CONTROL</td>\n",
       "      <td>RIGHT</td>\n",
       "      <td>FEMALE</td>\n",
       "      <td>58.967008</td>\n",
       "      <td>162.56</td>\n",
       "      <td>Non Hispanic or Latino</td>\n",
       "      <td>White</td>\n",
       "      <td>True</td>\n",
       "      <td>22.314220</td>\n",
       "    </tr>\n",
       "    <tr>\n",
       "      <th>PC001065</th>\n",
       "      <td>CONTROL</td>\n",
       "      <td>CONTROL</td>\n",
       "      <td>RIGHT</td>\n",
       "      <td>FEMALE</td>\n",
       "      <td>48.987976</td>\n",
       "      <td>165.10</td>\n",
       "      <td>Non Hispanic or Latino</td>\n",
       "      <td>White</td>\n",
       "      <td>True</td>\n",
       "      <td>17.971956</td>\n",
       "    </tr>\n",
       "    <tr>\n",
       "      <th>PC001069</th>\n",
       "      <td>CONTROL</td>\n",
       "      <td>CONTROL</td>\n",
       "      <td>LEFT</td>\n",
       "      <td>FEMALE</td>\n",
       "      <td>60.327785</td>\n",
       "      <td>175.26</td>\n",
       "      <td>Non Hispanic or Latino</td>\n",
       "      <td>White</td>\n",
       "      <td>True</td>\n",
       "      <td>19.640465</td>\n",
       "    </tr>\n",
       "    <tr>\n",
       "      <th>PC001070</th>\n",
       "      <td>CONTROL</td>\n",
       "      <td>CONTROL</td>\n",
       "      <td>RIGHT</td>\n",
       "      <td>FEMALE</td>\n",
       "      <td>34.473020</td>\n",
       "      <td>152.40</td>\n",
       "      <td>Non Hispanic or Latino</td>\n",
       "      <td>White</td>\n",
       "      <td>True</td>\n",
       "      <td>14.842580</td>\n",
       "    </tr>\n",
       "  </tbody>\n",
       "</table>\n",
       "<p>2991 rows × 10 columns</p>\n",
       "</div>"
      ],
      "text/plain": [
       "          disease diag_dis dom_hand     sex       wt_kg   ht_cm  \\\n",
       "BARCODE2                                                          \n",
       "AC000003       MS     CASE     LEFT    MALE   90.718474  180.34   \n",
       "AC000005       MS     CASE    RIGHT  FEMALE   93.440028  167.64   \n",
       "AC000006  CONTROL  CONTROL    RIGHT  FEMALE  102.058283  162.56   \n",
       "AC000007  CONTROL  CONTROL     LEFT    MALE   79.832257  179.07   \n",
       "AC000009       TM     CASE    RIGHT  FEMALE   58.967008  166.37   \n",
       "...           ...      ...      ...     ...         ...     ...   \n",
       "PC001059  CONTROL  CONTROL    RIGHT    MALE   27.215542  132.08   \n",
       "PC001064  CONTROL  CONTROL    RIGHT  FEMALE   58.967008  162.56   \n",
       "PC001065  CONTROL  CONTROL    RIGHT  FEMALE   48.987976  165.10   \n",
       "PC001069  CONTROL  CONTROL     LEFT  FEMALE   60.327785  175.26   \n",
       "PC001070  CONTROL  CONTROL    RIGHT  FEMALE   34.473020  152.40   \n",
       "\n",
       "                        eth_part rac_part moth_smk        BMI  \n",
       "BARCODE2                                                       \n",
       "AC000003  Non Hispanic or Latino    White     True  27.894052  \n",
       "AC000005  Non Hispanic or Latino    White     True  33.248929  \n",
       "AC000006  Non Hispanic or Latino    White    False  38.620765  \n",
       "AC000007  Non Hispanic or Latino    White     True  24.896181  \n",
       "AC000009  Non Hispanic or Latino    White    False  21.303897  \n",
       "...                          ...      ...      ...        ...  \n",
       "PC001059  Non Hispanic or Latino    White     True  15.600656  \n",
       "PC001064  Non Hispanic or Latino    White     True  22.314220  \n",
       "PC001065  Non Hispanic or Latino    White     True  17.971956  \n",
       "PC001069  Non Hispanic or Latino    White     True  19.640465  \n",
       "PC001070  Non Hispanic or Latino    White     True  14.842580  \n",
       "\n",
       "[2991 rows x 10 columns]"
      ]
     },
     "execution_count": 109,
     "metadata": {},
     "output_type": "execute_result"
    }
   ],
   "source": [
    "newparts"
   ]
  },
  {
   "cell_type": "code",
   "execution_count": 110,
   "id": "6a4ea7a7",
   "metadata": {},
   "outputs": [
    {
     "data": {
      "text/html": [
       "<div>\n",
       "<style scoped>\n",
       "    .dataframe tbody tr th:only-of-type {\n",
       "        vertical-align: middle;\n",
       "    }\n",
       "\n",
       "    .dataframe tbody tr th {\n",
       "        vertical-align: top;\n",
       "    }\n",
       "\n",
       "    .dataframe thead th {\n",
       "        text-align: right;\n",
       "    }\n",
       "</style>\n",
       "<table border=\"1\" class=\"dataframe\">\n",
       "  <thead>\n",
       "    <tr style=\"text-align: right;\">\n",
       "      <th></th>\n",
       "      <th>diag_dis</th>\n",
       "      <th>moth_smk</th>\n",
       "    </tr>\n",
       "    <tr>\n",
       "      <th>BARCODE2</th>\n",
       "      <th></th>\n",
       "      <th></th>\n",
       "    </tr>\n",
       "  </thead>\n",
       "  <tbody>\n",
       "    <tr>\n",
       "      <th>AC000003</th>\n",
       "      <td>CASE</td>\n",
       "      <td>True</td>\n",
       "    </tr>\n",
       "    <tr>\n",
       "      <th>AC000005</th>\n",
       "      <td>CASE</td>\n",
       "      <td>True</td>\n",
       "    </tr>\n",
       "    <tr>\n",
       "      <th>AC000006</th>\n",
       "      <td>CONTROL</td>\n",
       "      <td>False</td>\n",
       "    </tr>\n",
       "    <tr>\n",
       "      <th>AC000007</th>\n",
       "      <td>CONTROL</td>\n",
       "      <td>True</td>\n",
       "    </tr>\n",
       "    <tr>\n",
       "      <th>AC000009</th>\n",
       "      <td>CASE</td>\n",
       "      <td>False</td>\n",
       "    </tr>\n",
       "    <tr>\n",
       "      <th>...</th>\n",
       "      <td>...</td>\n",
       "      <td>...</td>\n",
       "    </tr>\n",
       "    <tr>\n",
       "      <th>PC001059</th>\n",
       "      <td>CONTROL</td>\n",
       "      <td>True</td>\n",
       "    </tr>\n",
       "    <tr>\n",
       "      <th>PC001064</th>\n",
       "      <td>CONTROL</td>\n",
       "      <td>True</td>\n",
       "    </tr>\n",
       "    <tr>\n",
       "      <th>PC001065</th>\n",
       "      <td>CONTROL</td>\n",
       "      <td>True</td>\n",
       "    </tr>\n",
       "    <tr>\n",
       "      <th>PC001069</th>\n",
       "      <td>CONTROL</td>\n",
       "      <td>True</td>\n",
       "    </tr>\n",
       "    <tr>\n",
       "      <th>PC001070</th>\n",
       "      <td>CONTROL</td>\n",
       "      <td>True</td>\n",
       "    </tr>\n",
       "  </tbody>\n",
       "</table>\n",
       "<p>2991 rows × 2 columns</p>\n",
       "</div>"
      ],
      "text/plain": [
       "         diag_dis moth_smk\n",
       "BARCODE2                  \n",
       "AC000003     CASE     True\n",
       "AC000005     CASE     True\n",
       "AC000006  CONTROL    False\n",
       "AC000007  CONTROL     True\n",
       "AC000009     CASE    False\n",
       "...           ...      ...\n",
       "PC001059  CONTROL     True\n",
       "PC001064  CONTROL     True\n",
       "PC001065  CONTROL     True\n",
       "PC001069  CONTROL     True\n",
       "PC001070  CONTROL     True\n",
       "\n",
       "[2991 rows x 2 columns]"
      ]
     },
     "execution_count": 110,
     "metadata": {},
     "output_type": "execute_result"
    }
   ],
   "source": [
    "pieparts = newparts.drop([\"disease\", \"dom_hand\", \"sex\", \"wt_kg\", \"ht_cm\", \"eth_part\", \"rac_part\", \"BMI\"], axis = 1)\n",
    "pieparts"
   ]
  },
  {
   "cell_type": "code",
   "execution_count": 231,
   "id": "e838c70f",
   "metadata": {},
   "outputs": [
    {
     "data": {
      "text/plain": [
       "BARCODE2\n",
       "AC000003    1.0\n",
       "AC000005    1.0\n",
       "AC000006    0.0\n",
       "AC000007    1.0\n",
       "AC000009    0.0\n",
       "           ... \n",
       "PC001059    1.0\n",
       "PC001064    1.0\n",
       "PC001065    1.0\n",
       "PC001069    1.0\n",
       "PC001070    1.0\n",
       "Name: moth_smk, Length: 2991, dtype: float64"
      ]
     },
     "execution_count": 231,
     "metadata": {},
     "output_type": "execute_result"
    }
   ],
   "source": [
    "pieparts.moth_smk.replace({True: 1, False: 0})"
   ]
  },
  {
   "cell_type": "code",
   "execution_count": 221,
   "id": "dd85913a",
   "metadata": {},
   "outputs": [],
   "source": [
    "case = pieparts.loc[parts.diag_dis == \"CASE\"]\n",
    "control = pieparts.loc[parts.diag_dis == \"CONTROL\"]\n",
    "CaseT = case.loc[case.moth_smk == 1]\n",
    "ControlT = control.loc[control.moth_smk == 1]\n",
    "CaseF = case.loc[case.moth_smk == 0]\n",
    "ControlF = control.loc[control.moth_smk == 0]"
   ]
  },
  {
   "cell_type": "code",
   "execution_count": 233,
   "id": "48747a0f",
   "metadata": {},
   "outputs": [
    {
     "data": {
      "text/plain": [
       "BARCODE2\n",
       "AC000003    1.0\n",
       "AC000005    1.0\n",
       "AC000006    0.0\n",
       "AC000007    1.0\n",
       "AC000009    0.0\n",
       "           ... \n",
       "PC001059    1.0\n",
       "PC001064    1.0\n",
       "PC001065    1.0\n",
       "PC001069    1.0\n",
       "PC001070    1.0\n",
       "Name: moth_smk, Length: 2991, dtype: float64"
      ]
     },
     "execution_count": 233,
     "metadata": {},
     "output_type": "execute_result"
    }
   ],
   "source": [
    "pieparts\n",
    "pieparts.moth_smk.replace({True: 1, False: 0})"
   ]
  },
  {
   "cell_type": "code",
   "execution_count": 222,
   "id": "fe3ee3bc",
   "metadata": {},
   "outputs": [
    {
     "data": {
      "text/plain": [
       "2015"
      ]
     },
     "execution_count": 222,
     "metadata": {},
     "output_type": "execute_result"
    }
   ],
   "source": [
    "totalCase = len(CaseT) + len(CaseF)\n",
    "totalCase"
   ]
  },
  {
   "cell_type": "code",
   "execution_count": 234,
   "id": "825c1907",
   "metadata": {},
   "outputs": [
    {
     "data": {
      "text/html": [
       "<div>\n",
       "<style scoped>\n",
       "    .dataframe tbody tr th:only-of-type {\n",
       "        vertical-align: middle;\n",
       "    }\n",
       "\n",
       "    .dataframe tbody tr th {\n",
       "        vertical-align: top;\n",
       "    }\n",
       "\n",
       "    .dataframe thead th {\n",
       "        text-align: right;\n",
       "    }\n",
       "</style>\n",
       "<table border=\"1\" class=\"dataframe\">\n",
       "  <thead>\n",
       "    <tr style=\"text-align: right;\">\n",
       "      <th></th>\n",
       "      <th>diag_dis</th>\n",
       "      <th>moth_smk</th>\n",
       "    </tr>\n",
       "    <tr>\n",
       "      <th>BARCODE2</th>\n",
       "      <th></th>\n",
       "      <th></th>\n",
       "    </tr>\n",
       "  </thead>\n",
       "  <tbody>\n",
       "    <tr>\n",
       "      <th>AC000003</th>\n",
       "      <td>CASE</td>\n",
       "      <td>True</td>\n",
       "    </tr>\n",
       "    <tr>\n",
       "      <th>AC000005</th>\n",
       "      <td>CASE</td>\n",
       "      <td>True</td>\n",
       "    </tr>\n",
       "    <tr>\n",
       "      <th>AC000006</th>\n",
       "      <td>CONTROL</td>\n",
       "      <td>False</td>\n",
       "    </tr>\n",
       "    <tr>\n",
       "      <th>AC000007</th>\n",
       "      <td>CONTROL</td>\n",
       "      <td>True</td>\n",
       "    </tr>\n",
       "    <tr>\n",
       "      <th>AC000009</th>\n",
       "      <td>CASE</td>\n",
       "      <td>False</td>\n",
       "    </tr>\n",
       "    <tr>\n",
       "      <th>...</th>\n",
       "      <td>...</td>\n",
       "      <td>...</td>\n",
       "    </tr>\n",
       "    <tr>\n",
       "      <th>PC001059</th>\n",
       "      <td>CONTROL</td>\n",
       "      <td>True</td>\n",
       "    </tr>\n",
       "    <tr>\n",
       "      <th>PC001064</th>\n",
       "      <td>CONTROL</td>\n",
       "      <td>True</td>\n",
       "    </tr>\n",
       "    <tr>\n",
       "      <th>PC001065</th>\n",
       "      <td>CONTROL</td>\n",
       "      <td>True</td>\n",
       "    </tr>\n",
       "    <tr>\n",
       "      <th>PC001069</th>\n",
       "      <td>CONTROL</td>\n",
       "      <td>True</td>\n",
       "    </tr>\n",
       "    <tr>\n",
       "      <th>PC001070</th>\n",
       "      <td>CONTROL</td>\n",
       "      <td>True</td>\n",
       "    </tr>\n",
       "  </tbody>\n",
       "</table>\n",
       "<p>2991 rows × 2 columns</p>\n",
       "</div>"
      ],
      "text/plain": [
       "         diag_dis moth_smk\n",
       "BARCODE2                  \n",
       "AC000003     CASE     True\n",
       "AC000005     CASE     True\n",
       "AC000006  CONTROL    False\n",
       "AC000007  CONTROL     True\n",
       "AC000009     CASE    False\n",
       "...           ...      ...\n",
       "PC001059  CONTROL     True\n",
       "PC001064  CONTROL     True\n",
       "PC001065  CONTROL     True\n",
       "PC001069  CONTROL     True\n",
       "PC001070  CONTROL     True\n",
       "\n",
       "[2991 rows x 2 columns]"
      ]
     },
     "execution_count": 234,
     "metadata": {},
     "output_type": "execute_result"
    }
   ],
   "source": [
    "pieparts"
   ]
  },
  {
   "cell_type": "code",
   "execution_count": 230,
   "id": "68cc1c92",
   "metadata": {},
   "outputs": [
    {
     "ename": "TypeError",
     "evalue": "no numeric data to plot",
     "output_type": "error",
     "traceback": [
      "\u001b[0;31m---------------------------------------------------------------------------\u001b[0m",
      "\u001b[0;31mTypeError\u001b[0m                                 Traceback (most recent call last)",
      "Input \u001b[0;32mIn [230]\u001b[0m, in \u001b[0;36m<cell line: 1>\u001b[0;34m()\u001b[0m\n\u001b[0;32m----> 1\u001b[0m plot \u001b[38;5;241m=\u001b[39m \u001b[43mpieparts\u001b[49m\u001b[38;5;241;43m.\u001b[39;49m\u001b[43mplot\u001b[49m\u001b[38;5;241;43m.\u001b[39;49m\u001b[43mpie\u001b[49m\u001b[43m(\u001b[49m\u001b[43my\u001b[49m\u001b[38;5;241;43m=\u001b[39;49m\u001b[38;5;124;43m'\u001b[39;49m\u001b[38;5;124;43mmoth_smk\u001b[39;49m\u001b[38;5;124;43m'\u001b[39;49m\u001b[43m,\u001b[49m\u001b[43m \u001b[49m\u001b[43mfigsize\u001b[49m\u001b[38;5;241;43m=\u001b[39;49m\u001b[43m(\u001b[49m\u001b[38;5;241;43m5\u001b[39;49m\u001b[43m,\u001b[49m\u001b[43m \u001b[49m\u001b[38;5;241;43m5\u001b[39;49m\u001b[43m)\u001b[49m\u001b[43m)\u001b[49m\n",
      "File \u001b[0;32m~/opt/anaconda3/lib/python3.9/site-packages/pandas/plotting/_core.py:1584\u001b[0m, in \u001b[0;36mPlotAccessor.pie\u001b[0;34m(self, **kwargs)\u001b[0m\n\u001b[1;32m   1578\u001b[0m \u001b[38;5;28;01mif\u001b[39;00m (\n\u001b[1;32m   1579\u001b[0m     \u001b[38;5;28misinstance\u001b[39m(\u001b[38;5;28mself\u001b[39m\u001b[38;5;241m.\u001b[39m_parent, ABCDataFrame)\n\u001b[1;32m   1580\u001b[0m     \u001b[38;5;129;01mand\u001b[39;00m kwargs\u001b[38;5;241m.\u001b[39mget(\u001b[38;5;124m\"\u001b[39m\u001b[38;5;124my\u001b[39m\u001b[38;5;124m\"\u001b[39m, \u001b[38;5;28;01mNone\u001b[39;00m) \u001b[38;5;129;01mis\u001b[39;00m \u001b[38;5;28;01mNone\u001b[39;00m\n\u001b[1;32m   1581\u001b[0m     \u001b[38;5;129;01mand\u001b[39;00m \u001b[38;5;129;01mnot\u001b[39;00m kwargs\u001b[38;5;241m.\u001b[39mget(\u001b[38;5;124m\"\u001b[39m\u001b[38;5;124msubplots\u001b[39m\u001b[38;5;124m\"\u001b[39m, \u001b[38;5;28;01mFalse\u001b[39;00m)\n\u001b[1;32m   1582\u001b[0m ):\n\u001b[1;32m   1583\u001b[0m     \u001b[38;5;28;01mraise\u001b[39;00m \u001b[38;5;167;01mValueError\u001b[39;00m(\u001b[38;5;124m\"\u001b[39m\u001b[38;5;124mpie requires either y column or \u001b[39m\u001b[38;5;124m'\u001b[39m\u001b[38;5;124msubplots=True\u001b[39m\u001b[38;5;124m'\u001b[39m\u001b[38;5;124m\"\u001b[39m)\n\u001b[0;32m-> 1584\u001b[0m \u001b[38;5;28;01mreturn\u001b[39;00m \u001b[38;5;28;43mself\u001b[39;49m\u001b[43m(\u001b[49m\u001b[43mkind\u001b[49m\u001b[38;5;241;43m=\u001b[39;49m\u001b[38;5;124;43m\"\u001b[39;49m\u001b[38;5;124;43mpie\u001b[39;49m\u001b[38;5;124;43m\"\u001b[39;49m\u001b[43m,\u001b[49m\u001b[43m \u001b[49m\u001b[38;5;241;43m*\u001b[39;49m\u001b[38;5;241;43m*\u001b[39;49m\u001b[43mkwargs\u001b[49m\u001b[43m)\u001b[49m\n",
      "File \u001b[0;32m~/opt/anaconda3/lib/python3.9/site-packages/pandas/plotting/_core.py:972\u001b[0m, in \u001b[0;36mPlotAccessor.__call__\u001b[0;34m(self, *args, **kwargs)\u001b[0m\n\u001b[1;32m    969\u001b[0m             label_name \u001b[38;5;241m=\u001b[39m label_kw \u001b[38;5;129;01mor\u001b[39;00m data\u001b[38;5;241m.\u001b[39mcolumns\n\u001b[1;32m    970\u001b[0m             data\u001b[38;5;241m.\u001b[39mcolumns \u001b[38;5;241m=\u001b[39m label_name\n\u001b[0;32m--> 972\u001b[0m \u001b[38;5;28;01mreturn\u001b[39;00m \u001b[43mplot_backend\u001b[49m\u001b[38;5;241;43m.\u001b[39;49m\u001b[43mplot\u001b[49m\u001b[43m(\u001b[49m\u001b[43mdata\u001b[49m\u001b[43m,\u001b[49m\u001b[43m \u001b[49m\u001b[43mkind\u001b[49m\u001b[38;5;241;43m=\u001b[39;49m\u001b[43mkind\u001b[49m\u001b[43m,\u001b[49m\u001b[43m \u001b[49m\u001b[38;5;241;43m*\u001b[39;49m\u001b[38;5;241;43m*\u001b[39;49m\u001b[43mkwargs\u001b[49m\u001b[43m)\u001b[49m\n",
      "File \u001b[0;32m~/opt/anaconda3/lib/python3.9/site-packages/pandas/plotting/_matplotlib/__init__.py:71\u001b[0m, in \u001b[0;36mplot\u001b[0;34m(data, kind, **kwargs)\u001b[0m\n\u001b[1;32m     69\u001b[0m         kwargs[\u001b[38;5;124m\"\u001b[39m\u001b[38;5;124max\u001b[39m\u001b[38;5;124m\"\u001b[39m] \u001b[38;5;241m=\u001b[39m \u001b[38;5;28mgetattr\u001b[39m(ax, \u001b[38;5;124m\"\u001b[39m\u001b[38;5;124mleft_ax\u001b[39m\u001b[38;5;124m\"\u001b[39m, ax)\n\u001b[1;32m     70\u001b[0m plot_obj \u001b[38;5;241m=\u001b[39m PLOT_CLASSES[kind](data, \u001b[38;5;241m*\u001b[39m\u001b[38;5;241m*\u001b[39mkwargs)\n\u001b[0;32m---> 71\u001b[0m \u001b[43mplot_obj\u001b[49m\u001b[38;5;241;43m.\u001b[39;49m\u001b[43mgenerate\u001b[49m\u001b[43m(\u001b[49m\u001b[43m)\u001b[49m\n\u001b[1;32m     72\u001b[0m plot_obj\u001b[38;5;241m.\u001b[39mdraw()\n\u001b[1;32m     73\u001b[0m \u001b[38;5;28;01mreturn\u001b[39;00m plot_obj\u001b[38;5;241m.\u001b[39mresult\n",
      "File \u001b[0;32m~/opt/anaconda3/lib/python3.9/site-packages/pandas/plotting/_matplotlib/core.py:327\u001b[0m, in \u001b[0;36mMPLPlot.generate\u001b[0;34m(self)\u001b[0m\n\u001b[1;32m    325\u001b[0m \u001b[38;5;28;01mdef\u001b[39;00m \u001b[38;5;21mgenerate\u001b[39m(\u001b[38;5;28mself\u001b[39m):\n\u001b[1;32m    326\u001b[0m     \u001b[38;5;28mself\u001b[39m\u001b[38;5;241m.\u001b[39m_args_adjust()\n\u001b[0;32m--> 327\u001b[0m     \u001b[38;5;28;43mself\u001b[39;49m\u001b[38;5;241;43m.\u001b[39;49m\u001b[43m_compute_plot_data\u001b[49m\u001b[43m(\u001b[49m\u001b[43m)\u001b[49m\n\u001b[1;32m    328\u001b[0m     \u001b[38;5;28mself\u001b[39m\u001b[38;5;241m.\u001b[39m_setup_subplots()\n\u001b[1;32m    329\u001b[0m     \u001b[38;5;28mself\u001b[39m\u001b[38;5;241m.\u001b[39m_make_plot()\n",
      "File \u001b[0;32m~/opt/anaconda3/lib/python3.9/site-packages/pandas/plotting/_matplotlib/core.py:506\u001b[0m, in \u001b[0;36mMPLPlot._compute_plot_data\u001b[0;34m(self)\u001b[0m\n\u001b[1;32m    504\u001b[0m \u001b[38;5;66;03m# no non-numeric frames or series allowed\u001b[39;00m\n\u001b[1;32m    505\u001b[0m \u001b[38;5;28;01mif\u001b[39;00m is_empty:\n\u001b[0;32m--> 506\u001b[0m     \u001b[38;5;28;01mraise\u001b[39;00m \u001b[38;5;167;01mTypeError\u001b[39;00m(\u001b[38;5;124m\"\u001b[39m\u001b[38;5;124mno numeric data to plot\u001b[39m\u001b[38;5;124m\"\u001b[39m)\n\u001b[1;32m    508\u001b[0m \u001b[38;5;28mself\u001b[39m\u001b[38;5;241m.\u001b[39mdata \u001b[38;5;241m=\u001b[39m numeric_data\u001b[38;5;241m.\u001b[39mapply(\u001b[38;5;28mself\u001b[39m\u001b[38;5;241m.\u001b[39m_convert_to_ndarray)\n",
      "\u001b[0;31mTypeError\u001b[0m: no numeric data to plot"
     ]
    }
   ],
   "source": [
    "plot = pieparts.plot.pie(y='moth_smk', figsize=(5, 5))"
   ]
  },
  {
   "cell_type": "code",
   "execution_count": 133,
   "id": "10e76fb6",
   "metadata": {},
   "outputs": [],
   "source": [
    "totalControl = len(ControlT) + len(ControlF)\n",
    "mathControl = totalControl / len(ControlT)"
   ]
  },
  {
   "cell_type": "code",
   "execution_count": 143,
   "id": "ecbc0780",
   "metadata": {},
   "outputs": [],
   "source": [
    "plot = pieparts.plot.pie(y='moth_smk', figsize=(10, 10),autopct='%1.1f%%')"
   ]
  },
  {
   "cell_type": "code",
   "execution_count": 156,
   "id": "fd7df214",
   "metadata": {},
   "outputs": [
    {
     "data": {
      "text/html": [
       "<div>\n",
       "<style scoped>\n",
       "    .dataframe tbody tr th:only-of-type {\n",
       "        vertical-align: middle;\n",
       "    }\n",
       "\n",
       "    .dataframe tbody tr th {\n",
       "        vertical-align: top;\n",
       "    }\n",
       "\n",
       "    .dataframe thead th {\n",
       "        text-align: right;\n",
       "    }\n",
       "</style>\n",
       "<table border=\"1\" class=\"dataframe\">\n",
       "  <thead>\n",
       "    <tr style=\"text-align: right;\">\n",
       "      <th></th>\n",
       "      <th>diag_dis</th>\n",
       "      <th>moth_smk</th>\n",
       "    </tr>\n",
       "    <tr>\n",
       "      <th>BARCODE2</th>\n",
       "      <th></th>\n",
       "      <th></th>\n",
       "    </tr>\n",
       "  </thead>\n",
       "  <tbody>\n",
       "    <tr>\n",
       "      <th>AC000003</th>\n",
       "      <td>CASE</td>\n",
       "      <td>True</td>\n",
       "    </tr>\n",
       "    <tr>\n",
       "      <th>AC000005</th>\n",
       "      <td>CASE</td>\n",
       "      <td>True</td>\n",
       "    </tr>\n",
       "    <tr>\n",
       "      <th>AC000011</th>\n",
       "      <td>CASE</td>\n",
       "      <td>True</td>\n",
       "    </tr>\n",
       "    <tr>\n",
       "      <th>AC000013</th>\n",
       "      <td>CASE</td>\n",
       "      <td>True</td>\n",
       "    </tr>\n",
       "    <tr>\n",
       "      <th>AC000014</th>\n",
       "      <td>CASE</td>\n",
       "      <td>True</td>\n",
       "    </tr>\n",
       "    <tr>\n",
       "      <th>...</th>\n",
       "      <td>...</td>\n",
       "      <td>...</td>\n",
       "    </tr>\n",
       "    <tr>\n",
       "      <th>PC001019</th>\n",
       "      <td>CASE</td>\n",
       "      <td>True</td>\n",
       "    </tr>\n",
       "    <tr>\n",
       "      <th>PC001037</th>\n",
       "      <td>CASE</td>\n",
       "      <td>True</td>\n",
       "    </tr>\n",
       "    <tr>\n",
       "      <th>PC001038</th>\n",
       "      <td>CASE</td>\n",
       "      <td>True</td>\n",
       "    </tr>\n",
       "    <tr>\n",
       "      <th>PC001042</th>\n",
       "      <td>CASE</td>\n",
       "      <td>True</td>\n",
       "    </tr>\n",
       "    <tr>\n",
       "      <th>PC001058</th>\n",
       "      <td>CASE</td>\n",
       "      <td>True</td>\n",
       "    </tr>\n",
       "  </tbody>\n",
       "</table>\n",
       "<p>1474 rows × 2 columns</p>\n",
       "</div>"
      ],
      "text/plain": [
       "         diag_dis moth_smk\n",
       "BARCODE2                  \n",
       "AC000003     CASE     True\n",
       "AC000005     CASE     True\n",
       "AC000011     CASE     True\n",
       "AC000013     CASE     True\n",
       "AC000014     CASE     True\n",
       "...           ...      ...\n",
       "PC001019     CASE     True\n",
       "PC001037     CASE     True\n",
       "PC001038     CASE     True\n",
       "PC001042     CASE     True\n",
       "PC001058     CASE     True\n",
       "\n",
       "[1474 rows x 2 columns]"
      ]
     },
     "execution_count": 156,
     "metadata": {},
     "output_type": "execute_result"
    }
   ],
   "source": [
    "CaseT"
   ]
  },
  {
   "cell_type": "code",
   "execution_count": null,
   "id": "38adce94",
   "metadata": {},
   "outputs": [],
   "source": [
    "CaseT.groupby(['country', 'province']).apply(lambda df: df.loc[df.points.idxmax()])"
   ]
  },
  {
   "cell_type": "code",
   "execution_count": 162,
   "id": "dcf49bdc",
   "metadata": {},
   "outputs": [
    {
     "data": {
      "text/plain": [
       "BARCODE2\n",
       "AC000003    1\n",
       "AC000005    1\n",
       "AC000011    1\n",
       "AC000013    1\n",
       "AC000014    1\n",
       "           ..\n",
       "PC001019    1\n",
       "PC001037    1\n",
       "PC001038    1\n",
       "PC001042    1\n",
       "PC001058    1\n",
       "Name: moth_smk, Length: 1474, dtype: int64"
      ]
     },
     "execution_count": 162,
     "metadata": {},
     "output_type": "execute_result"
    }
   ],
   "source": [
    "CaseT.moth_smk.replace({True: 1, False: 0})"
   ]
  },
  {
   "cell_type": "code",
   "execution_count": null,
   "id": "9027950e",
   "metadata": {},
   "outputs": [],
   "source": []
  },
  {
   "cell_type": "code",
   "execution_count": 175,
   "id": "7895b988",
   "metadata": {},
   "outputs": [
    {
     "name": "stderr",
     "output_type": "stream",
     "text": [
      "/var/folders/_g/dr204lbj3s1c6m88fsk34kch0000gn/T/ipykernel_3095/82752456.py:4: SettingWithCopyWarning: \n",
      "A value is trying to be set on a copy of a slice from a DataFrame.\n",
      "Try using .loc[row_indexer,col_indexer] = value instead\n",
      "\n",
      "See the caveats in the documentation: https://pandas.pydata.org/pandas-docs/stable/user_guide/indexing.html#returning-a-view-versus-a-copy\n",
      "  CaseT[\"CaseTrue\"] = CaseT[cols].astype(str).apply(lambda x: '/'.join(x))\n"
     ]
    },
    {
     "data": {
      "text/html": [
       "<div>\n",
       "<style scoped>\n",
       "    .dataframe tbody tr th:only-of-type {\n",
       "        vertical-align: middle;\n",
       "    }\n",
       "\n",
       "    .dataframe tbody tr th {\n",
       "        vertical-align: top;\n",
       "    }\n",
       "\n",
       "    .dataframe thead th {\n",
       "        text-align: right;\n",
       "    }\n",
       "</style>\n",
       "<table border=\"1\" class=\"dataframe\">\n",
       "  <thead>\n",
       "    <tr style=\"text-align: right;\">\n",
       "      <th></th>\n",
       "      <th>CaseTrue</th>\n",
       "    </tr>\n",
       "    <tr>\n",
       "      <th>BARCODE2</th>\n",
       "      <th></th>\n",
       "    </tr>\n",
       "  </thead>\n",
       "  <tbody>\n",
       "    <tr>\n",
       "      <th>AC000003</th>\n",
       "      <td>CT</td>\n",
       "    </tr>\n",
       "    <tr>\n",
       "      <th>AC000005</th>\n",
       "      <td>CT</td>\n",
       "    </tr>\n",
       "    <tr>\n",
       "      <th>AC000011</th>\n",
       "      <td>CT</td>\n",
       "    </tr>\n",
       "    <tr>\n",
       "      <th>AC000013</th>\n",
       "      <td>CT</td>\n",
       "    </tr>\n",
       "    <tr>\n",
       "      <th>AC000014</th>\n",
       "      <td>CT</td>\n",
       "    </tr>\n",
       "    <tr>\n",
       "      <th>...</th>\n",
       "      <td>...</td>\n",
       "    </tr>\n",
       "    <tr>\n",
       "      <th>PC001019</th>\n",
       "      <td>CT</td>\n",
       "    </tr>\n",
       "    <tr>\n",
       "      <th>PC001037</th>\n",
       "      <td>CT</td>\n",
       "    </tr>\n",
       "    <tr>\n",
       "      <th>PC001038</th>\n",
       "      <td>CT</td>\n",
       "    </tr>\n",
       "    <tr>\n",
       "      <th>PC001042</th>\n",
       "      <td>CT</td>\n",
       "    </tr>\n",
       "    <tr>\n",
       "      <th>PC001058</th>\n",
       "      <td>CT</td>\n",
       "    </tr>\n",
       "  </tbody>\n",
       "</table>\n",
       "<p>1474 rows × 1 columns</p>\n",
       "</div>"
      ],
      "text/plain": [
       "         CaseTrue\n",
       "BARCODE2         \n",
       "AC000003       CT\n",
       "AC000005       CT\n",
       "AC000011       CT\n",
       "AC000013       CT\n",
       "AC000014       CT\n",
       "...           ...\n",
       "PC001019       CT\n",
       "PC001037       CT\n",
       "PC001038       CT\n",
       "PC001042       CT\n",
       "PC001058       CT\n",
       "\n",
       "[1474 rows x 1 columns]"
      ]
     },
     "execution_count": 175,
     "metadata": {},
     "output_type": "execute_result"
    }
   ],
   "source": [
    "cols = [\"diag_dis\",\"moth_smk\"]\n",
    "CaseT[\"CaseTrue\"] = CaseT[cols].astype(str).apply(lambda x: '/'.join(x))\n",
    "newCaseT = CaseT.drop([\"diag_dis\", \"moth_smk\"], axis = 1)\n",
    "newCaseT['CaseTrue'] = newCaseT['CaseTrue'].fillna('CT')\n",
    "newCaseT\n"
   ]
  },
  {
   "cell_type": "code",
   "execution_count": 184,
   "id": "6ec3fc9f",
   "metadata": {},
   "outputs": [
    {
     "name": "stderr",
     "output_type": "stream",
     "text": [
      "/var/folders/_g/dr204lbj3s1c6m88fsk34kch0000gn/T/ipykernel_3095/1906934222.py:1: SettingWithCopyWarning: \n",
      "A value is trying to be set on a copy of a slice from a DataFrame.\n",
      "Try using .loc[row_indexer,col_indexer] = value instead\n",
      "\n",
      "See the caveats in the documentation: https://pandas.pydata.org/pandas-docs/stable/user_guide/indexing.html#returning-a-view-versus-a-copy\n",
      "  CaseF[\"CaseFalse\"] = CaseF[cols].astype(str).apply(lambda x: '/'.join(x))\n"
     ]
    },
    {
     "data": {
      "text/html": [
       "<div>\n",
       "<style scoped>\n",
       "    .dataframe tbody tr th:only-of-type {\n",
       "        vertical-align: middle;\n",
       "    }\n",
       "\n",
       "    .dataframe tbody tr th {\n",
       "        vertical-align: top;\n",
       "    }\n",
       "\n",
       "    .dataframe thead th {\n",
       "        text-align: right;\n",
       "    }\n",
       "</style>\n",
       "<table border=\"1\" class=\"dataframe\">\n",
       "  <thead>\n",
       "    <tr style=\"text-align: right;\">\n",
       "      <th></th>\n",
       "      <th>CaseFalse</th>\n",
       "    </tr>\n",
       "    <tr>\n",
       "      <th>BARCODE2</th>\n",
       "      <th></th>\n",
       "    </tr>\n",
       "  </thead>\n",
       "  <tbody>\n",
       "    <tr>\n",
       "      <th>AC000009</th>\n",
       "      <td>CF</td>\n",
       "    </tr>\n",
       "    <tr>\n",
       "      <th>AC000019</th>\n",
       "      <td>CF</td>\n",
       "    </tr>\n",
       "    <tr>\n",
       "      <th>AC000036</th>\n",
       "      <td>CF</td>\n",
       "    </tr>\n",
       "    <tr>\n",
       "      <th>AC000058</th>\n",
       "      <td>CF</td>\n",
       "    </tr>\n",
       "    <tr>\n",
       "      <th>AC000060</th>\n",
       "      <td>CF</td>\n",
       "    </tr>\n",
       "    <tr>\n",
       "      <th>...</th>\n",
       "      <td>...</td>\n",
       "    </tr>\n",
       "    <tr>\n",
       "      <th>AC003563</th>\n",
       "      <td>CF</td>\n",
       "    </tr>\n",
       "    <tr>\n",
       "      <th>AC003578</th>\n",
       "      <td>CF</td>\n",
       "    </tr>\n",
       "    <tr>\n",
       "      <th>PC000387</th>\n",
       "      <td>CF</td>\n",
       "    </tr>\n",
       "    <tr>\n",
       "      <th>PC001009</th>\n",
       "      <td>CF</td>\n",
       "    </tr>\n",
       "    <tr>\n",
       "      <th>PC001032</th>\n",
       "      <td>CF</td>\n",
       "    </tr>\n",
       "  </tbody>\n",
       "</table>\n",
       "<p>541 rows × 1 columns</p>\n",
       "</div>"
      ],
      "text/plain": [
       "         CaseFalse\n",
       "BARCODE2          \n",
       "AC000009        CF\n",
       "AC000019        CF\n",
       "AC000036        CF\n",
       "AC000058        CF\n",
       "AC000060        CF\n",
       "...            ...\n",
       "AC003563        CF\n",
       "AC003578        CF\n",
       "PC000387        CF\n",
       "PC001009        CF\n",
       "PC001032        CF\n",
       "\n",
       "[541 rows x 1 columns]"
      ]
     },
     "execution_count": 184,
     "metadata": {},
     "output_type": "execute_result"
    }
   ],
   "source": [
    "CaseF[\"CaseFalse\"] = CaseF[cols].astype(str).apply(lambda x: '/'.join(x))\n",
    "newCaseF = CaseF.drop([\"diag_dis\", \"moth_smk\"], axis = 1)\n",
    "newCaseF['CaseFalse'] = newCaseF['CaseFalse'].fillna('CF')\n",
    "newCaseF"
   ]
  },
  {
   "cell_type": "code",
   "execution_count": 224,
   "id": "46ab2170",
   "metadata": {},
   "outputs": [
    {
     "data": {
      "text/plain": [
       "CaseTrue     1474\n",
       "CaseFalse    1474\n",
       "dtype: int64"
      ]
     },
     "execution_count": 224,
     "metadata": {},
     "output_type": "execute_result"
    }
   ],
   "source": [
    "CaseTF = newCaseT.join(newCaseF)\n",
    "CaseTF['CaseFalse'] = CaseTF['CaseFalse'].fillna('CF')\n",
    "#CaseTF.count()\n",
    "len(CaseTrue)"
   ]
  },
  {
   "cell_type": "code",
   "execution_count": 228,
   "id": "88a4b429",
   "metadata": {},
   "outputs": [
    {
     "data": {
      "text/html": [
       "<div>\n",
       "<style scoped>\n",
       "    .dataframe tbody tr th:only-of-type {\n",
       "        vertical-align: middle;\n",
       "    }\n",
       "\n",
       "    .dataframe tbody tr th {\n",
       "        vertical-align: top;\n",
       "    }\n",
       "\n",
       "    .dataframe thead th {\n",
       "        text-align: right;\n",
       "    }\n",
       "</style>\n",
       "<table border=\"1\" class=\"dataframe\">\n",
       "  <thead>\n",
       "    <tr style=\"text-align: right;\">\n",
       "      <th></th>\n",
       "      <th>CaseTrue</th>\n",
       "      <th>CaseFalse</th>\n",
       "    </tr>\n",
       "    <tr>\n",
       "      <th>BARCODE2</th>\n",
       "      <th></th>\n",
       "      <th></th>\n",
       "    </tr>\n",
       "  </thead>\n",
       "  <tbody>\n",
       "    <tr>\n",
       "      <th>AC000003</th>\n",
       "      <td>CT</td>\n",
       "      <td>CF</td>\n",
       "    </tr>\n",
       "    <tr>\n",
       "      <th>AC000005</th>\n",
       "      <td>CT</td>\n",
       "      <td>CF</td>\n",
       "    </tr>\n",
       "    <tr>\n",
       "      <th>AC000011</th>\n",
       "      <td>CT</td>\n",
       "      <td>CF</td>\n",
       "    </tr>\n",
       "    <tr>\n",
       "      <th>AC000013</th>\n",
       "      <td>CT</td>\n",
       "      <td>CF</td>\n",
       "    </tr>\n",
       "    <tr>\n",
       "      <th>AC000014</th>\n",
       "      <td>CT</td>\n",
       "      <td>CF</td>\n",
       "    </tr>\n",
       "    <tr>\n",
       "      <th>...</th>\n",
       "      <td>...</td>\n",
       "      <td>...</td>\n",
       "    </tr>\n",
       "    <tr>\n",
       "      <th>PC001019</th>\n",
       "      <td>CT</td>\n",
       "      <td>CF</td>\n",
       "    </tr>\n",
       "    <tr>\n",
       "      <th>PC001037</th>\n",
       "      <td>CT</td>\n",
       "      <td>CF</td>\n",
       "    </tr>\n",
       "    <tr>\n",
       "      <th>PC001038</th>\n",
       "      <td>CT</td>\n",
       "      <td>CF</td>\n",
       "    </tr>\n",
       "    <tr>\n",
       "      <th>PC001042</th>\n",
       "      <td>CT</td>\n",
       "      <td>CF</td>\n",
       "    </tr>\n",
       "    <tr>\n",
       "      <th>PC001058</th>\n",
       "      <td>CT</td>\n",
       "      <td>CF</td>\n",
       "    </tr>\n",
       "  </tbody>\n",
       "</table>\n",
       "<p>1474 rows × 2 columns</p>\n",
       "</div>"
      ],
      "text/plain": [
       "         CaseTrue CaseFalse\n",
       "BARCODE2                   \n",
       "AC000003       CT        CF\n",
       "AC000005       CT        CF\n",
       "AC000011       CT        CF\n",
       "AC000013       CT        CF\n",
       "AC000014       CT        CF\n",
       "...           ...       ...\n",
       "PC001019       CT        CF\n",
       "PC001037       CT        CF\n",
       "PC001038       CT        CF\n",
       "PC001042       CT        CF\n",
       "PC001058       CT        CF\n",
       "\n",
       "[1474 rows x 2 columns]"
      ]
     },
     "execution_count": 228,
     "metadata": {},
     "output_type": "execute_result"
    }
   ],
   "source": [
    "CaseTF"
   ]
  },
  {
   "cell_type": "code",
   "execution_count": 209,
   "id": "d9bf55f1",
   "metadata": {},
   "outputs": [
    {
     "data": {
      "text/plain": [
       "8"
      ]
     },
     "execution_count": 209,
     "metadata": {},
     "output_type": "execute_result"
    }
   ],
   "source": [
    "len('CaseTrue')"
   ]
  },
  {
   "cell_type": "code",
   "execution_count": 208,
   "id": "6496ce71",
   "metadata": {},
   "outputs": [
    {
     "data": {
      "text/plain": [
       "17"
      ]
     },
     "execution_count": 208,
     "metadata": {},
     "output_type": "execute_result"
    }
   ],
   "source": [
    "totaal = len('CaseTrue') + len('CaseFalse')\n",
    "totaal"
   ]
  },
  {
   "cell_type": "code",
   "execution_count": 203,
   "id": "06cdb679",
   "metadata": {},
   "outputs": [
    {
     "ename": "KeyError",
     "evalue": "'CaseTF'",
     "output_type": "error",
     "traceback": [
      "\u001b[0;31m---------------------------------------------------------------------------\u001b[0m",
      "\u001b[0;31mKeyError\u001b[0m                                  Traceback (most recent call last)",
      "File \u001b[0;32m~/opt/anaconda3/lib/python3.9/site-packages/pandas/core/indexes/base.py:3621\u001b[0m, in \u001b[0;36mIndex.get_loc\u001b[0;34m(self, key, method, tolerance)\u001b[0m\n\u001b[1;32m   3620\u001b[0m \u001b[38;5;28;01mtry\u001b[39;00m:\n\u001b[0;32m-> 3621\u001b[0m     \u001b[38;5;28;01mreturn\u001b[39;00m \u001b[38;5;28;43mself\u001b[39;49m\u001b[38;5;241;43m.\u001b[39;49m\u001b[43m_engine\u001b[49m\u001b[38;5;241;43m.\u001b[39;49m\u001b[43mget_loc\u001b[49m\u001b[43m(\u001b[49m\u001b[43mcasted_key\u001b[49m\u001b[43m)\u001b[49m\n\u001b[1;32m   3622\u001b[0m \u001b[38;5;28;01mexcept\u001b[39;00m \u001b[38;5;167;01mKeyError\u001b[39;00m \u001b[38;5;28;01mas\u001b[39;00m err:\n",
      "File \u001b[0;32m~/opt/anaconda3/lib/python3.9/site-packages/pandas/_libs/index.pyx:136\u001b[0m, in \u001b[0;36mpandas._libs.index.IndexEngine.get_loc\u001b[0;34m()\u001b[0m\n",
      "File \u001b[0;32m~/opt/anaconda3/lib/python3.9/site-packages/pandas/_libs/index.pyx:163\u001b[0m, in \u001b[0;36mpandas._libs.index.IndexEngine.get_loc\u001b[0;34m()\u001b[0m\n",
      "File \u001b[0;32mpandas/_libs/hashtable_class_helper.pxi:5198\u001b[0m, in \u001b[0;36mpandas._libs.hashtable.PyObjectHashTable.get_item\u001b[0;34m()\u001b[0m\n",
      "File \u001b[0;32mpandas/_libs/hashtable_class_helper.pxi:5206\u001b[0m, in \u001b[0;36mpandas._libs.hashtable.PyObjectHashTable.get_item\u001b[0;34m()\u001b[0m\n",
      "\u001b[0;31mKeyError\u001b[0m: 'CaseTF'",
      "\nThe above exception was the direct cause of the following exception:\n",
      "\u001b[0;31mKeyError\u001b[0m                                  Traceback (most recent call last)",
      "Input \u001b[0;32mIn [203]\u001b[0m, in \u001b[0;36m<cell line: 1>\u001b[0;34m()\u001b[0m\n\u001b[0;32m----> 1\u001b[0m plot \u001b[38;5;241m=\u001b[39m \u001b[43mCaseTF\u001b[49m\u001b[38;5;241;43m.\u001b[39;49m\u001b[43mplot\u001b[49m\u001b[38;5;241;43m.\u001b[39;49m\u001b[43mpie\u001b[49m\u001b[43m(\u001b[49m\u001b[43my\u001b[49m\u001b[38;5;241;43m=\u001b[39;49m\u001b[38;5;124;43m'\u001b[39;49m\u001b[38;5;124;43mCaseTF\u001b[39;49m\u001b[38;5;124;43m'\u001b[39;49m\u001b[43m,\u001b[49m\u001b[43m \u001b[49m\u001b[43mfigsize\u001b[49m\u001b[38;5;241;43m=\u001b[39;49m\u001b[43m(\u001b[49m\u001b[38;5;241;43m10\u001b[39;49m\u001b[43m,\u001b[49m\u001b[43m \u001b[49m\u001b[38;5;241;43m10\u001b[39;49m\u001b[43m)\u001b[49m\u001b[43m,\u001b[49m\u001b[43mautopct\u001b[49m\u001b[38;5;241;43m=\u001b[39;49m\u001b[38;5;124;43m'\u001b[39;49m\u001b[38;5;132;43;01m%1.1f\u001b[39;49;00m\u001b[38;5;132;43;01m%%\u001b[39;49;00m\u001b[38;5;124;43m'\u001b[39;49m\u001b[43m)\u001b[49m\n",
      "File \u001b[0;32m~/opt/anaconda3/lib/python3.9/site-packages/pandas/plotting/_core.py:1584\u001b[0m, in \u001b[0;36mPlotAccessor.pie\u001b[0;34m(self, **kwargs)\u001b[0m\n\u001b[1;32m   1578\u001b[0m \u001b[38;5;28;01mif\u001b[39;00m (\n\u001b[1;32m   1579\u001b[0m     \u001b[38;5;28misinstance\u001b[39m(\u001b[38;5;28mself\u001b[39m\u001b[38;5;241m.\u001b[39m_parent, ABCDataFrame)\n\u001b[1;32m   1580\u001b[0m     \u001b[38;5;129;01mand\u001b[39;00m kwargs\u001b[38;5;241m.\u001b[39mget(\u001b[38;5;124m\"\u001b[39m\u001b[38;5;124my\u001b[39m\u001b[38;5;124m\"\u001b[39m, \u001b[38;5;28;01mNone\u001b[39;00m) \u001b[38;5;129;01mis\u001b[39;00m \u001b[38;5;28;01mNone\u001b[39;00m\n\u001b[1;32m   1581\u001b[0m     \u001b[38;5;129;01mand\u001b[39;00m \u001b[38;5;129;01mnot\u001b[39;00m kwargs\u001b[38;5;241m.\u001b[39mget(\u001b[38;5;124m\"\u001b[39m\u001b[38;5;124msubplots\u001b[39m\u001b[38;5;124m\"\u001b[39m, \u001b[38;5;28;01mFalse\u001b[39;00m)\n\u001b[1;32m   1582\u001b[0m ):\n\u001b[1;32m   1583\u001b[0m     \u001b[38;5;28;01mraise\u001b[39;00m \u001b[38;5;167;01mValueError\u001b[39;00m(\u001b[38;5;124m\"\u001b[39m\u001b[38;5;124mpie requires either y column or \u001b[39m\u001b[38;5;124m'\u001b[39m\u001b[38;5;124msubplots=True\u001b[39m\u001b[38;5;124m'\u001b[39m\u001b[38;5;124m\"\u001b[39m)\n\u001b[0;32m-> 1584\u001b[0m \u001b[38;5;28;01mreturn\u001b[39;00m \u001b[38;5;28;43mself\u001b[39;49m\u001b[43m(\u001b[49m\u001b[43mkind\u001b[49m\u001b[38;5;241;43m=\u001b[39;49m\u001b[38;5;124;43m\"\u001b[39;49m\u001b[38;5;124;43mpie\u001b[39;49m\u001b[38;5;124;43m\"\u001b[39;49m\u001b[43m,\u001b[49m\u001b[43m \u001b[49m\u001b[38;5;241;43m*\u001b[39;49m\u001b[38;5;241;43m*\u001b[39;49m\u001b[43mkwargs\u001b[49m\u001b[43m)\u001b[49m\n",
      "File \u001b[0;32m~/opt/anaconda3/lib/python3.9/site-packages/pandas/plotting/_core.py:930\u001b[0m, in \u001b[0;36mPlotAccessor.__call__\u001b[0;34m(self, *args, **kwargs)\u001b[0m\n\u001b[1;32m    928\u001b[0m                 y \u001b[38;5;241m=\u001b[39m data\u001b[38;5;241m.\u001b[39mcolumns[y]\n\u001b[1;32m    929\u001b[0m             \u001b[38;5;66;03m# converted to series actually. copy to not modify\u001b[39;00m\n\u001b[0;32m--> 930\u001b[0m             data \u001b[38;5;241m=\u001b[39m \u001b[43mdata\u001b[49m\u001b[43m[\u001b[49m\u001b[43my\u001b[49m\u001b[43m]\u001b[49m\u001b[38;5;241m.\u001b[39mcopy()\n\u001b[1;32m    931\u001b[0m             data\u001b[38;5;241m.\u001b[39mindex\u001b[38;5;241m.\u001b[39mname \u001b[38;5;241m=\u001b[39m y\n\u001b[1;32m    932\u001b[0m \u001b[38;5;28;01melif\u001b[39;00m \u001b[38;5;28misinstance\u001b[39m(data, ABCDataFrame):\n",
      "File \u001b[0;32m~/opt/anaconda3/lib/python3.9/site-packages/pandas/core/frame.py:3505\u001b[0m, in \u001b[0;36mDataFrame.__getitem__\u001b[0;34m(self, key)\u001b[0m\n\u001b[1;32m   3503\u001b[0m \u001b[38;5;28;01mif\u001b[39;00m \u001b[38;5;28mself\u001b[39m\u001b[38;5;241m.\u001b[39mcolumns\u001b[38;5;241m.\u001b[39mnlevels \u001b[38;5;241m>\u001b[39m \u001b[38;5;241m1\u001b[39m:\n\u001b[1;32m   3504\u001b[0m     \u001b[38;5;28;01mreturn\u001b[39;00m \u001b[38;5;28mself\u001b[39m\u001b[38;5;241m.\u001b[39m_getitem_multilevel(key)\n\u001b[0;32m-> 3505\u001b[0m indexer \u001b[38;5;241m=\u001b[39m \u001b[38;5;28;43mself\u001b[39;49m\u001b[38;5;241;43m.\u001b[39;49m\u001b[43mcolumns\u001b[49m\u001b[38;5;241;43m.\u001b[39;49m\u001b[43mget_loc\u001b[49m\u001b[43m(\u001b[49m\u001b[43mkey\u001b[49m\u001b[43m)\u001b[49m\n\u001b[1;32m   3506\u001b[0m \u001b[38;5;28;01mif\u001b[39;00m is_integer(indexer):\n\u001b[1;32m   3507\u001b[0m     indexer \u001b[38;5;241m=\u001b[39m [indexer]\n",
      "File \u001b[0;32m~/opt/anaconda3/lib/python3.9/site-packages/pandas/core/indexes/base.py:3623\u001b[0m, in \u001b[0;36mIndex.get_loc\u001b[0;34m(self, key, method, tolerance)\u001b[0m\n\u001b[1;32m   3621\u001b[0m     \u001b[38;5;28;01mreturn\u001b[39;00m \u001b[38;5;28mself\u001b[39m\u001b[38;5;241m.\u001b[39m_engine\u001b[38;5;241m.\u001b[39mget_loc(casted_key)\n\u001b[1;32m   3622\u001b[0m \u001b[38;5;28;01mexcept\u001b[39;00m \u001b[38;5;167;01mKeyError\u001b[39;00m \u001b[38;5;28;01mas\u001b[39;00m err:\n\u001b[0;32m-> 3623\u001b[0m     \u001b[38;5;28;01mraise\u001b[39;00m \u001b[38;5;167;01mKeyError\u001b[39;00m(key) \u001b[38;5;28;01mfrom\u001b[39;00m \u001b[38;5;21;01merr\u001b[39;00m\n\u001b[1;32m   3624\u001b[0m \u001b[38;5;28;01mexcept\u001b[39;00m \u001b[38;5;167;01mTypeError\u001b[39;00m:\n\u001b[1;32m   3625\u001b[0m     \u001b[38;5;66;03m# If we have a listlike key, _check_indexing_error will raise\u001b[39;00m\n\u001b[1;32m   3626\u001b[0m     \u001b[38;5;66;03m#  InvalidIndexError. Otherwise we fall through and re-raise\u001b[39;00m\n\u001b[1;32m   3627\u001b[0m     \u001b[38;5;66;03m#  the TypeError.\u001b[39;00m\n\u001b[1;32m   3628\u001b[0m     \u001b[38;5;28mself\u001b[39m\u001b[38;5;241m.\u001b[39m_check_indexing_error(key)\n",
      "\u001b[0;31mKeyError\u001b[0m: 'CaseTF'"
     ]
    }
   ],
   "source": [
    "plot = CaseTF.plot.pie(y='CaseTF', figsize=(10, 10),autopct='%1.1f%%')"
   ]
  },
  {
   "cell_type": "code",
   "execution_count": null,
   "id": "2b104b7d",
   "metadata": {},
   "outputs": [],
   "source": []
  }
 ],
 "metadata": {
  "kernelspec": {
   "display_name": "Python 3 (ipykernel)",
   "language": "python",
   "name": "python3"
  },
  "language_info": {
   "codemirror_mode": {
    "name": "ipython",
    "version": 3
   },
   "file_extension": ".py",
   "mimetype": "text/x-python",
   "name": "python",
   "nbconvert_exporter": "python",
   "pygments_lexer": "ipython3",
   "version": "3.9.12"
  }
 },
 "nbformat": 4,
 "nbformat_minor": 5
}
