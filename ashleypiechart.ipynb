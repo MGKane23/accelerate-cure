{
 "cells": [
  {
   "cell_type": "code",
   "execution_count": 1,
   "id": "193150ec",
   "metadata": {},
   "outputs": [],
   "source": [
    "import pandas as pd\n",
    "import seaborn as sns"
   ]
  },
  {
   "cell_type": "code",
   "execution_count": 2,
   "id": "3a5bff17",
   "metadata": {},
   "outputs": [],
   "source": [
    "parts = pd.read_pickle('pkl/parts.pkl')"
   ]
  },
  {
   "cell_type": "code",
   "execution_count": 3,
   "id": "93fa9f29",
   "metadata": {},
   "outputs": [
    {
     "data": {
      "text/html": [
       "<div>\n",
       "<style scoped>\n",
       "    .dataframe tbody tr th:only-of-type {\n",
       "        vertical-align: middle;\n",
       "    }\n",
       "\n",
       "    .dataframe tbody tr th {\n",
       "        vertical-align: top;\n",
       "    }\n",
       "\n",
       "    .dataframe thead th {\n",
       "        text-align: right;\n",
       "    }\n",
       "</style>\n",
       "<table border=\"1\" class=\"dataframe\">\n",
       "  <thead>\n",
       "    <tr style=\"text-align: right;\">\n",
       "      <th></th>\n",
       "      <th>disease</th>\n",
       "      <th>diag_dis</th>\n",
       "      <th>dom_hand</th>\n",
       "      <th>sex</th>\n",
       "      <th>wt_kg</th>\n",
       "      <th>ht_cm</th>\n",
       "      <th>eth_part</th>\n",
       "      <th>rac_part</th>\n",
       "      <th>moth_smk</th>\n",
       "      <th>BMI</th>\n",
       "    </tr>\n",
       "    <tr>\n",
       "      <th>BARCODE2</th>\n",
       "      <th></th>\n",
       "      <th></th>\n",
       "      <th></th>\n",
       "      <th></th>\n",
       "      <th></th>\n",
       "      <th></th>\n",
       "      <th></th>\n",
       "      <th></th>\n",
       "      <th></th>\n",
       "      <th></th>\n",
       "    </tr>\n",
       "  </thead>\n",
       "  <tbody>\n",
       "    <tr>\n",
       "      <th>AC000003</th>\n",
       "      <td>MS</td>\n",
       "      <td>CASE</td>\n",
       "      <td>LEFT</td>\n",
       "      <td>MALE</td>\n",
       "      <td>90.718474</td>\n",
       "      <td>180.34</td>\n",
       "      <td>Non Hispanic or Latino</td>\n",
       "      <td>White</td>\n",
       "      <td>False</td>\n",
       "      <td>27.894052</td>\n",
       "    </tr>\n",
       "    <tr>\n",
       "      <th>AC000005</th>\n",
       "      <td>MS</td>\n",
       "      <td>CASE</td>\n",
       "      <td>RIGHT</td>\n",
       "      <td>FEMALE</td>\n",
       "      <td>93.440028</td>\n",
       "      <td>167.64</td>\n",
       "      <td>Non Hispanic or Latino</td>\n",
       "      <td>White</td>\n",
       "      <td>False</td>\n",
       "      <td>33.248929</td>\n",
       "    </tr>\n",
       "    <tr>\n",
       "      <th>AC000006</th>\n",
       "      <td>CONTROL</td>\n",
       "      <td>CONTROL</td>\n",
       "      <td>RIGHT</td>\n",
       "      <td>FEMALE</td>\n",
       "      <td>102.058283</td>\n",
       "      <td>162.56</td>\n",
       "      <td>Non Hispanic or Latino</td>\n",
       "      <td>White</td>\n",
       "      <td>True</td>\n",
       "      <td>38.620765</td>\n",
       "    </tr>\n",
       "    <tr>\n",
       "      <th>AC000007</th>\n",
       "      <td>CONTROL</td>\n",
       "      <td>CONTROL</td>\n",
       "      <td>LEFT</td>\n",
       "      <td>MALE</td>\n",
       "      <td>79.832257</td>\n",
       "      <td>179.07</td>\n",
       "      <td>Non Hispanic or Latino</td>\n",
       "      <td>White</td>\n",
       "      <td>False</td>\n",
       "      <td>24.896181</td>\n",
       "    </tr>\n",
       "    <tr>\n",
       "      <th>AC000009</th>\n",
       "      <td>TM</td>\n",
       "      <td>CASE</td>\n",
       "      <td>RIGHT</td>\n",
       "      <td>FEMALE</td>\n",
       "      <td>58.967008</td>\n",
       "      <td>166.37</td>\n",
       "      <td>Non Hispanic or Latino</td>\n",
       "      <td>White</td>\n",
       "      <td>True</td>\n",
       "      <td>21.303897</td>\n",
       "    </tr>\n",
       "    <tr>\n",
       "      <th>...</th>\n",
       "      <td>...</td>\n",
       "      <td>...</td>\n",
       "      <td>...</td>\n",
       "      <td>...</td>\n",
       "      <td>...</td>\n",
       "      <td>...</td>\n",
       "      <td>...</td>\n",
       "      <td>...</td>\n",
       "      <td>...</td>\n",
       "      <td>...</td>\n",
       "    </tr>\n",
       "    <tr>\n",
       "      <th>PC001059</th>\n",
       "      <td>CONTROL</td>\n",
       "      <td>CONTROL</td>\n",
       "      <td>RIGHT</td>\n",
       "      <td>MALE</td>\n",
       "      <td>27.215542</td>\n",
       "      <td>132.08</td>\n",
       "      <td>Non Hispanic or Latino</td>\n",
       "      <td>White</td>\n",
       "      <td>False</td>\n",
       "      <td>15.600656</td>\n",
       "    </tr>\n",
       "    <tr>\n",
       "      <th>PC001064</th>\n",
       "      <td>CONTROL</td>\n",
       "      <td>CONTROL</td>\n",
       "      <td>RIGHT</td>\n",
       "      <td>FEMALE</td>\n",
       "      <td>58.967008</td>\n",
       "      <td>162.56</td>\n",
       "      <td>Non Hispanic or Latino</td>\n",
       "      <td>White</td>\n",
       "      <td>False</td>\n",
       "      <td>22.314220</td>\n",
       "    </tr>\n",
       "    <tr>\n",
       "      <th>PC001065</th>\n",
       "      <td>CONTROL</td>\n",
       "      <td>CONTROL</td>\n",
       "      <td>RIGHT</td>\n",
       "      <td>FEMALE</td>\n",
       "      <td>48.987976</td>\n",
       "      <td>165.10</td>\n",
       "      <td>Non Hispanic or Latino</td>\n",
       "      <td>White</td>\n",
       "      <td>False</td>\n",
       "      <td>17.971956</td>\n",
       "    </tr>\n",
       "    <tr>\n",
       "      <th>PC001069</th>\n",
       "      <td>CONTROL</td>\n",
       "      <td>CONTROL</td>\n",
       "      <td>LEFT</td>\n",
       "      <td>FEMALE</td>\n",
       "      <td>60.327785</td>\n",
       "      <td>175.26</td>\n",
       "      <td>Non Hispanic or Latino</td>\n",
       "      <td>White</td>\n",
       "      <td>False</td>\n",
       "      <td>19.640465</td>\n",
       "    </tr>\n",
       "    <tr>\n",
       "      <th>PC001070</th>\n",
       "      <td>CONTROL</td>\n",
       "      <td>CONTROL</td>\n",
       "      <td>RIGHT</td>\n",
       "      <td>FEMALE</td>\n",
       "      <td>34.473020</td>\n",
       "      <td>152.40</td>\n",
       "      <td>Non Hispanic or Latino</td>\n",
       "      <td>White</td>\n",
       "      <td>False</td>\n",
       "      <td>14.842580</td>\n",
       "    </tr>\n",
       "  </tbody>\n",
       "</table>\n",
       "<p>2992 rows × 10 columns</p>\n",
       "</div>"
      ],
      "text/plain": [
       "          disease diag_dis dom_hand     sex       wt_kg   ht_cm  \\\n",
       "BARCODE2                                                          \n",
       "AC000003       MS     CASE     LEFT    MALE   90.718474  180.34   \n",
       "AC000005       MS     CASE    RIGHT  FEMALE   93.440028  167.64   \n",
       "AC000006  CONTROL  CONTROL    RIGHT  FEMALE  102.058283  162.56   \n",
       "AC000007  CONTROL  CONTROL     LEFT    MALE   79.832257  179.07   \n",
       "AC000009       TM     CASE    RIGHT  FEMALE   58.967008  166.37   \n",
       "...           ...      ...      ...     ...         ...     ...   \n",
       "PC001059  CONTROL  CONTROL    RIGHT    MALE   27.215542  132.08   \n",
       "PC001064  CONTROL  CONTROL    RIGHT  FEMALE   58.967008  162.56   \n",
       "PC001065  CONTROL  CONTROL    RIGHT  FEMALE   48.987976  165.10   \n",
       "PC001069  CONTROL  CONTROL     LEFT  FEMALE   60.327785  175.26   \n",
       "PC001070  CONTROL  CONTROL    RIGHT  FEMALE   34.473020  152.40   \n",
       "\n",
       "                        eth_part rac_part moth_smk        BMI  \n",
       "BARCODE2                                                       \n",
       "AC000003  Non Hispanic or Latino    White    False  27.894052  \n",
       "AC000005  Non Hispanic or Latino    White    False  33.248929  \n",
       "AC000006  Non Hispanic or Latino    White     True  38.620765  \n",
       "AC000007  Non Hispanic or Latino    White    False  24.896181  \n",
       "AC000009  Non Hispanic or Latino    White     True  21.303897  \n",
       "...                          ...      ...      ...        ...  \n",
       "PC001059  Non Hispanic or Latino    White    False  15.600656  \n",
       "PC001064  Non Hispanic or Latino    White    False  22.314220  \n",
       "PC001065  Non Hispanic or Latino    White    False  17.971956  \n",
       "PC001069  Non Hispanic or Latino    White    False  19.640465  \n",
       "PC001070  Non Hispanic or Latino    White    False  14.842580  \n",
       "\n",
       "[2992 rows x 10 columns]"
      ]
     },
     "execution_count": 3,
     "metadata": {},
     "output_type": "execute_result"
    }
   ],
   "source": [
    "parts['BMI'] = parts['wt_kg']/((parts['ht_cm']/100)**2)\n",
    "parts"
   ]
  },
  {
   "cell_type": "code",
   "execution_count": 4,
   "id": "2efb6aef",
   "metadata": {},
   "outputs": [],
   "source": [
    "outlier = parts.BMI.idxmax()\n",
    "parts.drop(outlier, inplace = True)"
   ]
  },
  {
   "cell_type": "code",
   "execution_count": 5,
   "id": "3c59214f",
   "metadata": {},
   "outputs": [
    {
     "data": {
      "text/plain": [
       "<AxesSubplot:xlabel='BMI', ylabel='Density'>"
      ]
     },
     "execution_count": 5,
     "metadata": {},
     "output_type": "execute_result"
    },
    {
     "data": {
      "image/png": "[encoded data removed]",
      "text/plain": [
       "<Figure size 432x288 with 1 Axes>"
      ]
     },
     "metadata": {
      "needs_background": "light"
     },
     "output_type": "display_data"
    }
   ],
   "source": [
    "sns.kdeplot(data = parts, x = 'BMI', hue = 'diag_dis', shade = True)"
   ]
  },
  {
   "cell_type": "code",
   "execution_count": 6,
   "id": "3cf38a07",
   "metadata": {},
   "outputs": [
    {
     "data": {
      "text/plain": [
       "<seaborn.axisgrid.FacetGrid at 0x7fb8e0328940>"
      ]
     },
     "execution_count": 6,
     "metadata": {},
     "output_type": "execute_result"
    },
    {
     "data": {
      "image/png": "[encoded data removed]",
      "text/plain": [
       "<Figure size 435.25x360 with 1 Axes>"
      ]
     },
     "metadata": {
      "needs_background": "light"
     },
     "output_type": "display_data"
    }
   ],
   "source": [
    "sns.catplot(data=parts, kind='violin', x='diag_dis', y = 'BMI', hue = 'sex', split = True)"
   ]
  },
  {
   "cell_type": "code",
   "execution_count": 7,
   "id": "934684cd",
   "metadata": {},
   "outputs": [
    {
     "data": {
      "text/plain": [
       "<seaborn.axisgrid.FacetGrid at 0x7fb8e4179e50>"
      ]
     },
     "execution_count": 7,
     "metadata": {},
     "output_type": "execute_result"
    },
    {
     "data": {
      "image/png": "[encoded data removed]",
      "text/plain": [
       "<Figure size 435.25x360 with 1 Axes>"
      ]
     },
     "metadata": {
      "needs_background": "light"
     },
     "output_type": "display_data"
    }
   ],
   "source": [
    "sns.catplot(data=parts, kind='box', x='diag_dis', y = 'BMI', hue = 'sex')"
   ]
  },
  {
   "cell_type": "code",
   "execution_count": 8,
   "id": "076342e7",
   "metadata": {},
   "outputs": [
    {
     "data": {
      "text/plain": [
       "<seaborn.axisgrid.FacetGrid at 0x7fb8e464e6a0>"
      ]
     },
     "execution_count": 8,
     "metadata": {},
     "output_type": "execute_result"
    },
    {
     "data": {
      "image/png": "[encoded data removed]",
      "text/plain": [
       "<Figure size 421.25x360 with 1 Axes>"
      ]
     },
     "metadata": {
      "needs_background": "light"
     },
     "output_type": "display_data"
    }
   ],
   "source": [
    "sns.catplot(data=parts, kind='violin', x='diag_dis', y = 'BMI', hue = 'moth_smk', split = True)"
   ]
  },
  {
   "cell_type": "code",
   "execution_count": 9,
   "id": "1e868c59",
   "metadata": {},
   "outputs": [
    {
     "data": {
      "text/plain": [
       "CASE       2301\n",
       "CONTROL     688\n",
       "Name: diag_dis, dtype: int64"
      ]
     },
     "execution_count": 9,
     "metadata": {},
     "output_type": "execute_result"
    }
   ],
   "source": [
    "parts.diag_dis.value_counts()"
   ]
  },
  {
   "cell_type": "code",
   "execution_count": 10,
   "id": "e073f4d2",
   "metadata": {},
   "outputs": [
    {
     "data": {
      "text/plain": [
       "diag_dis  moth_smk\n",
       "CASE      False       1474\n",
       "          True         541\n",
       "CONTROL   False        433\n",
       "          True         172\n",
       "Name: moth_smk, dtype: int64"
      ]
     },
     "execution_count": 10,
     "metadata": {},
     "output_type": "execute_result"
    }
   ],
   "source": [
    "moth_smk_by_diag = parts.moth_smk.groupby(parts['diag_dis']).value_counts()\n",
    "moth_smk_by_diag\n"
   ]
  },
  {
   "cell_type": "code",
   "execution_count": 11,
   "id": "3fcc6b44",
   "metadata": {},
   "outputs": [],
   "source": [
    "# sns.catplot(data=parts, kind = 'bar', x='diag_dis', y=, hue = 'moth_smk')\n",
    "# sns.catplot(data=parts, kind = 'bar', x=moth_smk_by_diag.index, y = moth_smk_by_diag, hue = 'moth_smk')"
   ]
  },
  {
   "cell_type": "code",
   "execution_count": 12,
   "id": "23edd05e",
   "metadata": {},
   "outputs": [
    {
     "data": {
      "text/plain": [
       "<AxesSubplot:xlabel='diag_dis'>"
      ]
     },
     "execution_count": 12,
     "metadata": {},
     "output_type": "execute_result"
    },
    {
     "data": {
      "image/png": "[encoded data removed]",
      "text/plain": [
       "<Figure size 432x288 with 1 Axes>"
      ]
     },
     "metadata": {
      "needs_background": "light"
     },
     "output_type": "display_data"
    }
   ],
   "source": [
    "moth_smk_by_diag.unstack().plot(kind='bar')"
   ]
  },
  {
   "cell_type": "markdown",
   "id": "45e6c2ee",
   "metadata": {},
   "source": [
    "#### Citation for data.unstack().plot(kind='bar'): https://stackoverflow.com/questions/34248741/plotting-pandas-multiindex-bar-chart"
   ]
  },
  {
   "cell_type": "code",
   "execution_count": 13,
   "id": "86b73d1c",
   "metadata": {},
   "outputs": [
    {
     "data": {
      "text/html": [
       "<div>\n",
       "<style scoped>\n",
       "    .dataframe tbody tr th:only-of-type {\n",
       "        vertical-align: middle;\n",
       "    }\n",
       "\n",
       "    .dataframe tbody tr th {\n",
       "        vertical-align: top;\n",
       "    }\n",
       "\n",
       "    .dataframe thead th {\n",
       "        text-align: right;\n",
       "    }\n",
       "</style>\n",
       "<table border=\"1\" class=\"dataframe\">\n",
       "  <thead>\n",
       "    <tr style=\"text-align: right;\">\n",
       "      <th>moth_smk</th>\n",
       "      <th>False</th>\n",
       "      <th>True</th>\n",
       "    </tr>\n",
       "    <tr>\n",
       "      <th>diag_dis</th>\n",
       "      <th></th>\n",
       "      <th></th>\n",
       "    </tr>\n",
       "  </thead>\n",
       "  <tbody>\n",
       "    <tr>\n",
       "      <th>CASE</th>\n",
       "      <td>1474</td>\n",
       "      <td>541</td>\n",
       "    </tr>\n",
       "    <tr>\n",
       "      <th>CONTROL</th>\n",
       "      <td>433</td>\n",
       "      <td>172</td>\n",
       "    </tr>\n",
       "  </tbody>\n",
       "</table>\n",
       "</div>"
      ],
      "text/plain": [
       "moth_smk  False  True\n",
       "diag_dis             \n",
       "CASE       1474   541\n",
       "CONTROL     433   172"
      ]
     },
     "execution_count": 13,
     "metadata": {},
     "output_type": "execute_result"
    }
   ],
   "source": [
    "unstacked = moth_smk_by_diag.unstack()\n",
    "unstacked"
   ]
  },
  {
   "cell_type": "code",
   "execution_count": 14,
   "id": "0c8db60b",
   "metadata": {},
   "outputs": [],
   "source": [
    "newparts = parts.copy()"
   ]
  },
  {
   "cell_type": "code",
   "execution_count": 15,
   "id": "07f7f071",
   "metadata": {},
   "outputs": [
    {
     "data": {
      "text/html": [
       "<div>\n",
       "<style scoped>\n",
       "    .dataframe tbody tr th:only-of-type {\n",
       "        vertical-align: middle;\n",
       "    }\n",
       "\n",
       "    .dataframe tbody tr th {\n",
       "        vertical-align: top;\n",
       "    }\n",
       "\n",
       "    .dataframe thead th {\n",
       "        text-align: right;\n",
       "    }\n",
       "</style>\n",
       "<table border=\"1\" class=\"dataframe\">\n",
       "  <thead>\n",
       "    <tr style=\"text-align: right;\">\n",
       "      <th></th>\n",
       "      <th>disease</th>\n",
       "      <th>diag_dis</th>\n",
       "      <th>dom_hand</th>\n",
       "      <th>sex</th>\n",
       "      <th>wt_kg</th>\n",
       "      <th>ht_cm</th>\n",
       "      <th>eth_part</th>\n",
       "      <th>rac_part</th>\n",
       "      <th>moth_smk</th>\n",
       "      <th>BMI</th>\n",
       "    </tr>\n",
       "    <tr>\n",
       "      <th>BARCODE2</th>\n",
       "      <th></th>\n",
       "      <th></th>\n",
       "      <th></th>\n",
       "      <th></th>\n",
       "      <th></th>\n",
       "      <th></th>\n",
       "      <th></th>\n",
       "      <th></th>\n",
       "      <th></th>\n",
       "      <th></th>\n",
       "    </tr>\n",
       "  </thead>\n",
       "  <tbody>\n",
       "    <tr>\n",
       "      <th>AC000003</th>\n",
       "      <td>MS</td>\n",
       "      <td>CASE</td>\n",
       "      <td>LEFT</td>\n",
       "      <td>MALE</td>\n",
       "      <td>90.718474</td>\n",
       "      <td>180.34</td>\n",
       "      <td>Non Hispanic or Latino</td>\n",
       "      <td>White</td>\n",
       "      <td>False</td>\n",
       "      <td>27.894052</td>\n",
       "    </tr>\n",
       "    <tr>\n",
       "      <th>AC000005</th>\n",
       "      <td>MS</td>\n",
       "      <td>CASE</td>\n",
       "      <td>RIGHT</td>\n",
       "      <td>FEMALE</td>\n",
       "      <td>93.440028</td>\n",
       "      <td>167.64</td>\n",
       "      <td>Non Hispanic or Latino</td>\n",
       "      <td>White</td>\n",
       "      <td>False</td>\n",
       "      <td>33.248929</td>\n",
       "    </tr>\n",
       "    <tr>\n",
       "      <th>AC000006</th>\n",
       "      <td>CONTROL</td>\n",
       "      <td>CONTROL</td>\n",
       "      <td>RIGHT</td>\n",
       "      <td>FEMALE</td>\n",
       "      <td>102.058283</td>\n",
       "      <td>162.56</td>\n",
       "      <td>Non Hispanic or Latino</td>\n",
       "      <td>White</td>\n",
       "      <td>True</td>\n",
       "      <td>38.620765</td>\n",
       "    </tr>\n",
       "    <tr>\n",
       "      <th>AC000007</th>\n",
       "      <td>CONTROL</td>\n",
       "      <td>CONTROL</td>\n",
       "      <td>LEFT</td>\n",
       "      <td>MALE</td>\n",
       "      <td>79.832257</td>\n",
       "      <td>179.07</td>\n",
       "      <td>Non Hispanic or Latino</td>\n",
       "      <td>White</td>\n",
       "      <td>False</td>\n",
       "      <td>24.896181</td>\n",
       "    </tr>\n",
       "    <tr>\n",
       "      <th>AC000009</th>\n",
       "      <td>TM</td>\n",
       "      <td>CASE</td>\n",
       "      <td>RIGHT</td>\n",
       "      <td>FEMALE</td>\n",
       "      <td>58.967008</td>\n",
       "      <td>166.37</td>\n",
       "      <td>Non Hispanic or Latino</td>\n",
       "      <td>White</td>\n",
       "      <td>True</td>\n",
       "      <td>21.303897</td>\n",
       "    </tr>\n",
       "    <tr>\n",
       "      <th>...</th>\n",
       "      <td>...</td>\n",
       "      <td>...</td>\n",
       "      <td>...</td>\n",
       "      <td>...</td>\n",
       "      <td>...</td>\n",
       "      <td>...</td>\n",
       "      <td>...</td>\n",
       "      <td>...</td>\n",
       "      <td>...</td>\n",
       "      <td>...</td>\n",
       "    </tr>\n",
       "    <tr>\n",
       "      <th>PC001059</th>\n",
       "      <td>CONTROL</td>\n",
       "      <td>CONTROL</td>\n",
       "      <td>RIGHT</td>\n",
       "      <td>MALE</td>\n",
       "      <td>27.215542</td>\n",
       "      <td>132.08</td>\n",
       "      <td>Non Hispanic or Latino</td>\n",
       "      <td>White</td>\n",
       "      <td>False</td>\n",
       "      <td>15.600656</td>\n",
       "    </tr>\n",
       "    <tr>\n",
       "      <th>PC001064</th>\n",
       "      <td>CONTROL</td>\n",
       "      <td>CONTROL</td>\n",
       "      <td>RIGHT</td>\n",
       "      <td>FEMALE</td>\n",
       "      <td>58.967008</td>\n",
       "      <td>162.56</td>\n",
       "      <td>Non Hispanic or Latino</td>\n",
       "      <td>White</td>\n",
       "      <td>False</td>\n",
       "      <td>22.314220</td>\n",
       "    </tr>\n",
       "    <tr>\n",
       "      <th>PC001065</th>\n",
       "      <td>CONTROL</td>\n",
       "      <td>CONTROL</td>\n",
       "      <td>RIGHT</td>\n",
       "      <td>FEMALE</td>\n",
       "      <td>48.987976</td>\n",
       "      <td>165.10</td>\n",
       "      <td>Non Hispanic or Latino</td>\n",
       "      <td>White</td>\n",
       "      <td>False</td>\n",
       "      <td>17.971956</td>\n",
       "    </tr>\n",
       "    <tr>\n",
       "      <th>PC001069</th>\n",
       "      <td>CONTROL</td>\n",
       "      <td>CONTROL</td>\n",
       "      <td>LEFT</td>\n",
       "      <td>FEMALE</td>\n",
       "      <td>60.327785</td>\n",
       "      <td>175.26</td>\n",
       "      <td>Non Hispanic or Latino</td>\n",
       "      <td>White</td>\n",
       "      <td>False</td>\n",
       "      <td>19.640465</td>\n",
       "    </tr>\n",
       "    <tr>\n",
       "      <th>PC001070</th>\n",
       "      <td>CONTROL</td>\n",
       "      <td>CONTROL</td>\n",
       "      <td>RIGHT</td>\n",
       "      <td>FEMALE</td>\n",
       "      <td>34.473020</td>\n",
       "      <td>152.40</td>\n",
       "      <td>Non Hispanic or Latino</td>\n",
       "      <td>White</td>\n",
       "      <td>False</td>\n",
       "      <td>14.842580</td>\n",
       "    </tr>\n",
       "  </tbody>\n",
       "</table>\n",
       "<p>2991 rows × 10 columns</p>\n",
       "</div>"
      ],
      "text/plain": [
       "          disease diag_dis dom_hand     sex       wt_kg   ht_cm  \\\n",
       "BARCODE2                                                          \n",
       "AC000003       MS     CASE     LEFT    MALE   90.718474  180.34   \n",
       "AC000005       MS     CASE    RIGHT  FEMALE   93.440028  167.64   \n",
       "AC000006  CONTROL  CONTROL    RIGHT  FEMALE  102.058283  162.56   \n",
       "AC000007  CONTROL  CONTROL     LEFT    MALE   79.832257  179.07   \n",
       "AC000009       TM     CASE    RIGHT  FEMALE   58.967008  166.37   \n",
       "...           ...      ...      ...     ...         ...     ...   \n",
       "PC001059  CONTROL  CONTROL    RIGHT    MALE   27.215542  132.08   \n",
       "PC001064  CONTROL  CONTROL    RIGHT  FEMALE   58.967008  162.56   \n",
       "PC001065  CONTROL  CONTROL    RIGHT  FEMALE   48.987976  165.10   \n",
       "PC001069  CONTROL  CONTROL     LEFT  FEMALE   60.327785  175.26   \n",
       "PC001070  CONTROL  CONTROL    RIGHT  FEMALE   34.473020  152.40   \n",
       "\n",
       "                        eth_part rac_part moth_smk        BMI  \n",
       "BARCODE2                                                       \n",
       "AC000003  Non Hispanic or Latino    White    False  27.894052  \n",
       "AC000005  Non Hispanic or Latino    White    False  33.248929  \n",
       "AC000006  Non Hispanic or Latino    White     True  38.620765  \n",
       "AC000007  Non Hispanic or Latino    White    False  24.896181  \n",
       "AC000009  Non Hispanic or Latino    White     True  21.303897  \n",
       "...                          ...      ...      ...        ...  \n",
       "PC001059  Non Hispanic or Latino    White    False  15.600656  \n",
       "PC001064  Non Hispanic or Latino    White    False  22.314220  \n",
       "PC001065  Non Hispanic or Latino    White    False  17.971956  \n",
       "PC001069  Non Hispanic or Latino    White    False  19.640465  \n",
       "PC001070  Non Hispanic or Latino    White    False  14.842580  \n",
       "\n",
       "[2991 rows x 10 columns]"
      ]
     },
     "execution_count": 15,
     "metadata": {},
     "output_type": "execute_result"
    }
   ],
   "source": [
    "newparts"
   ]
  },
  {
   "cell_type": "code",
   "execution_count": 16,
   "id": "6346d7a0",
   "metadata": {},
   "outputs": [
    {
     "data": {
      "text/html": [
       "<div>\n",
       "<style scoped>\n",
       "    .dataframe tbody tr th:only-of-type {\n",
       "        vertical-align: middle;\n",
       "    }\n",
       "\n",
       "    .dataframe tbody tr th {\n",
       "        vertical-align: top;\n",
       "    }\n",
       "\n",
       "    .dataframe thead th {\n",
       "        text-align: right;\n",
       "    }\n",
       "</style>\n",
       "<table border=\"1\" class=\"dataframe\">\n",
       "  <thead>\n",
       "    <tr style=\"text-align: right;\">\n",
       "      <th></th>\n",
       "      <th>diag_dis</th>\n",
       "      <th>moth_smk</th>\n",
       "    </tr>\n",
       "    <tr>\n",
       "      <th>BARCODE2</th>\n",
       "      <th></th>\n",
       "      <th></th>\n",
       "    </tr>\n",
       "  </thead>\n",
       "  <tbody>\n",
       "    <tr>\n",
       "      <th>AC000003</th>\n",
       "      <td>CASE</td>\n",
       "      <td>False</td>\n",
       "    </tr>\n",
       "    <tr>\n",
       "      <th>AC000005</th>\n",
       "      <td>CASE</td>\n",
       "      <td>False</td>\n",
       "    </tr>\n",
       "    <tr>\n",
       "      <th>AC000006</th>\n",
       "      <td>CONTROL</td>\n",
       "      <td>True</td>\n",
       "    </tr>\n",
       "    <tr>\n",
       "      <th>AC000007</th>\n",
       "      <td>CONTROL</td>\n",
       "      <td>False</td>\n",
       "    </tr>\n",
       "    <tr>\n",
       "      <th>AC000009</th>\n",
       "      <td>CASE</td>\n",
       "      <td>True</td>\n",
       "    </tr>\n",
       "    <tr>\n",
       "      <th>...</th>\n",
       "      <td>...</td>\n",
       "      <td>...</td>\n",
       "    </tr>\n",
       "    <tr>\n",
       "      <th>PC001059</th>\n",
       "      <td>CONTROL</td>\n",
       "      <td>False</td>\n",
       "    </tr>\n",
       "    <tr>\n",
       "      <th>PC001064</th>\n",
       "      <td>CONTROL</td>\n",
       "      <td>False</td>\n",
       "    </tr>\n",
       "    <tr>\n",
       "      <th>PC001065</th>\n",
       "      <td>CONTROL</td>\n",
       "      <td>False</td>\n",
       "    </tr>\n",
       "    <tr>\n",
       "      <th>PC001069</th>\n",
       "      <td>CONTROL</td>\n",
       "      <td>False</td>\n",
       "    </tr>\n",
       "    <tr>\n",
       "      <th>PC001070</th>\n",
       "      <td>CONTROL</td>\n",
       "      <td>False</td>\n",
       "    </tr>\n",
       "  </tbody>\n",
       "</table>\n",
       "<p>2991 rows × 2 columns</p>\n",
       "</div>"
      ],
      "text/plain": [
       "         diag_dis moth_smk\n",
       "BARCODE2                  \n",
       "AC000003     CASE    False\n",
       "AC000005     CASE    False\n",
       "AC000006  CONTROL     True\n",
       "AC000007  CONTROL    False\n",
       "AC000009     CASE     True\n",
       "...           ...      ...\n",
       "PC001059  CONTROL    False\n",
       "PC001064  CONTROL    False\n",
       "PC001065  CONTROL    False\n",
       "PC001069  CONTROL    False\n",
       "PC001070  CONTROL    False\n",
       "\n",
       "[2991 rows x 2 columns]"
      ]
     },
     "execution_count": 16,
     "metadata": {},
     "output_type": "execute_result"
    }
   ],
   "source": [
    "pieparts = newparts.drop([\"disease\", \"dom_hand\", \"sex\", \"wt_kg\", \"ht_cm\", \"eth_part\", \"rac_part\", \"BMI\"], axis = 1)\n",
    "pieparts"
   ]
  },
  {
   "cell_type": "code",
   "execution_count": 17,
   "id": "41711c02",
   "metadata": {},
   "outputs": [
    {
     "data": {
      "text/plain": [
       "BARCODE2\n",
       "AC000003    0.0\n",
       "AC000005    0.0\n",
       "AC000006    1.0\n",
       "AC000007    0.0\n",
       "AC000009    1.0\n",
       "           ... \n",
       "PC001059    0.0\n",
       "PC001064    0.0\n",
       "PC001065    0.0\n",
       "PC001069    0.0\n",
       "PC001070    0.0\n",
       "Name: moth_smk, Length: 2991, dtype: float64"
      ]
     },
     "execution_count": 17,
     "metadata": {},
     "output_type": "execute_result"
    }
   ],
   "source": [
    "pieparts.moth_smk.replace({True: 1, False: 0})"
   ]
  },
  {
   "cell_type": "code",
   "execution_count": 18,
   "id": "a47f587d",
   "metadata": {},
   "outputs": [
    {
     "data": {
      "text/html": [
       "<div>\n",
       "<style scoped>\n",
       "    .dataframe tbody tr th:only-of-type {\n",
       "        vertical-align: middle;\n",
       "    }\n",
       "\n",
       "    .dataframe tbody tr th {\n",
       "        vertical-align: top;\n",
       "    }\n",
       "\n",
       "    .dataframe thead th {\n",
       "        text-align: right;\n",
       "    }\n",
       "</style>\n",
       "<table border=\"1\" class=\"dataframe\">\n",
       "  <thead>\n",
       "    <tr style=\"text-align: right;\">\n",
       "      <th></th>\n",
       "      <th>diag_dis</th>\n",
       "      <th>moth_smk</th>\n",
       "    </tr>\n",
       "    <tr>\n",
       "      <th>BARCODE2</th>\n",
       "      <th></th>\n",
       "      <th></th>\n",
       "    </tr>\n",
       "  </thead>\n",
       "  <tbody>\n",
       "    <tr>\n",
       "      <th>AC000003</th>\n",
       "      <td>CASE</td>\n",
       "      <td>False</td>\n",
       "    </tr>\n",
       "    <tr>\n",
       "      <th>AC000005</th>\n",
       "      <td>CASE</td>\n",
       "      <td>False</td>\n",
       "    </tr>\n",
       "    <tr>\n",
       "      <th>AC000009</th>\n",
       "      <td>CASE</td>\n",
       "      <td>True</td>\n",
       "    </tr>\n",
       "    <tr>\n",
       "      <th>AC000011</th>\n",
       "      <td>CASE</td>\n",
       "      <td>False</td>\n",
       "    </tr>\n",
       "    <tr>\n",
       "      <th>AC000013</th>\n",
       "      <td>CASE</td>\n",
       "      <td>False</td>\n",
       "    </tr>\n",
       "    <tr>\n",
       "      <th>...</th>\n",
       "      <td>...</td>\n",
       "      <td>...</td>\n",
       "    </tr>\n",
       "    <tr>\n",
       "      <th>PC001032</th>\n",
       "      <td>CASE</td>\n",
       "      <td>True</td>\n",
       "    </tr>\n",
       "    <tr>\n",
       "      <th>PC001037</th>\n",
       "      <td>CASE</td>\n",
       "      <td>False</td>\n",
       "    </tr>\n",
       "    <tr>\n",
       "      <th>PC001038</th>\n",
       "      <td>CASE</td>\n",
       "      <td>False</td>\n",
       "    </tr>\n",
       "    <tr>\n",
       "      <th>PC001042</th>\n",
       "      <td>CASE</td>\n",
       "      <td>False</td>\n",
       "    </tr>\n",
       "    <tr>\n",
       "      <th>PC001058</th>\n",
       "      <td>CASE</td>\n",
       "      <td>False</td>\n",
       "    </tr>\n",
       "  </tbody>\n",
       "</table>\n",
       "<p>2301 rows × 2 columns</p>\n",
       "</div>"
      ],
      "text/plain": [
       "         diag_dis moth_smk\n",
       "BARCODE2                  \n",
       "AC000003     CASE    False\n",
       "AC000005     CASE    False\n",
       "AC000009     CASE     True\n",
       "AC000011     CASE    False\n",
       "AC000013     CASE    False\n",
       "...           ...      ...\n",
       "PC001032     CASE     True\n",
       "PC001037     CASE    False\n",
       "PC001038     CASE    False\n",
       "PC001042     CASE    False\n",
       "PC001058     CASE    False\n",
       "\n",
       "[2301 rows x 2 columns]"
      ]
     },
     "execution_count": 18,
     "metadata": {},
     "output_type": "execute_result"
    }
   ],
   "source": [
    "case = pieparts.loc[parts.diag_dis == \"CASE\"]\n",
    "case"
   ]
  },
  {
   "cell_type": "code",
   "execution_count": 19,
   "id": "639131f8",
   "metadata": {},
   "outputs": [
    {
     "data": {
      "text/plain": [
       "moth_smk\n",
       "False    1474\n",
       "True      541\n",
       "Name: moth_smk, dtype: int64"
      ]
     },
     "execution_count": 19,
     "metadata": {},
     "output_type": "execute_result"
    }
   ],
   "source": [
    "casegroup = case.groupby(\"moth_smk\").moth_smk.count()\n",
    "casegroup"
   ]
  },
  {
   "cell_type": "code",
   "execution_count": 25,
   "id": "4f5c4e53",
   "metadata": {},
   "outputs": [
    {
     "data": {
      "image/png": "[encoded data removed]",
      "text/plain": [
       "<Figure size 720x720 with 1 Axes>"
      ]
     },
     "metadata": {},
     "output_type": "display_data"
    }
   ],
   "source": [
    "labels = ['Mother Did Not Smoke', 'Mother Smoked']\n",
    "explode = (0, 0.1)\n",
    "colors = ['#F8C8DC','#cfcfc4']\n",
    "caseplot = casegroup.plot.pie(title = \"Case Group ~ Did the Mother Smoke?\", y='casegroup', figsize=(10, 10),autopct='%1.1f%%', labels = labels, explode = explode, shadow = True, colors = colors, fontsize=20)\n"
   ]
  },
  {
   "cell_type": "code",
   "execution_count": 21,
   "id": "f2ee74af",
   "metadata": {},
   "outputs": [
    {
     "data": {
      "text/html": [
       "<div>\n",
       "<style scoped>\n",
       "    .dataframe tbody tr th:only-of-type {\n",
       "        vertical-align: middle;\n",
       "    }\n",
       "\n",
       "    .dataframe tbody tr th {\n",
       "        vertical-align: top;\n",
       "    }\n",
       "\n",
       "    .dataframe thead th {\n",
       "        text-align: right;\n",
       "    }\n",
       "</style>\n",
       "<table border=\"1\" class=\"dataframe\">\n",
       "  <thead>\n",
       "    <tr style=\"text-align: right;\">\n",
       "      <th></th>\n",
       "      <th>diag_dis</th>\n",
       "      <th>moth_smk</th>\n",
       "    </tr>\n",
       "    <tr>\n",
       "      <th>BARCODE2</th>\n",
       "      <th></th>\n",
       "      <th></th>\n",
       "    </tr>\n",
       "  </thead>\n",
       "  <tbody>\n",
       "    <tr>\n",
       "      <th>AC000006</th>\n",
       "      <td>CONTROL</td>\n",
       "      <td>True</td>\n",
       "    </tr>\n",
       "    <tr>\n",
       "      <th>AC000007</th>\n",
       "      <td>CONTROL</td>\n",
       "      <td>False</td>\n",
       "    </tr>\n",
       "    <tr>\n",
       "      <th>AC000010</th>\n",
       "      <td>CONTROL</td>\n",
       "      <td>True</td>\n",
       "    </tr>\n",
       "    <tr>\n",
       "      <th>AC000012</th>\n",
       "      <td>CONTROL</td>\n",
       "      <td>False</td>\n",
       "    </tr>\n",
       "    <tr>\n",
       "      <th>AC000022</th>\n",
       "      <td>CONTROL</td>\n",
       "      <td>False</td>\n",
       "    </tr>\n",
       "    <tr>\n",
       "      <th>...</th>\n",
       "      <td>...</td>\n",
       "      <td>...</td>\n",
       "    </tr>\n",
       "    <tr>\n",
       "      <th>PC001059</th>\n",
       "      <td>CONTROL</td>\n",
       "      <td>False</td>\n",
       "    </tr>\n",
       "    <tr>\n",
       "      <th>PC001064</th>\n",
       "      <td>CONTROL</td>\n",
       "      <td>False</td>\n",
       "    </tr>\n",
       "    <tr>\n",
       "      <th>PC001065</th>\n",
       "      <td>CONTROL</td>\n",
       "      <td>False</td>\n",
       "    </tr>\n",
       "    <tr>\n",
       "      <th>PC001069</th>\n",
       "      <td>CONTROL</td>\n",
       "      <td>False</td>\n",
       "    </tr>\n",
       "    <tr>\n",
       "      <th>PC001070</th>\n",
       "      <td>CONTROL</td>\n",
       "      <td>False</td>\n",
       "    </tr>\n",
       "  </tbody>\n",
       "</table>\n",
       "<p>688 rows × 2 columns</p>\n",
       "</div>"
      ],
      "text/plain": [
       "         diag_dis moth_smk\n",
       "BARCODE2                  \n",
       "AC000006  CONTROL     True\n",
       "AC000007  CONTROL    False\n",
       "AC000010  CONTROL     True\n",
       "AC000012  CONTROL    False\n",
       "AC000022  CONTROL    False\n",
       "...           ...      ...\n",
       "PC001059  CONTROL    False\n",
       "PC001064  CONTROL    False\n",
       "PC001065  CONTROL    False\n",
       "PC001069  CONTROL    False\n",
       "PC001070  CONTROL    False\n",
       "\n",
       "[688 rows x 2 columns]"
      ]
     },
     "execution_count": 21,
     "metadata": {},
     "output_type": "execute_result"
    }
   ],
   "source": [
    "control = pieparts.loc[parts.diag_dis == \"CONTROL\"]\n",
    "control"
   ]
  },
  {
   "cell_type": "code",
   "execution_count": 22,
   "id": "1c933fc3",
   "metadata": {},
   "outputs": [
    {
     "data": {
      "text/plain": [
       "moth_smk\n",
       "False    433\n",
       "True     172\n",
       "Name: moth_smk, dtype: int64"
      ]
     },
     "execution_count": 22,
     "metadata": {},
     "output_type": "execute_result"
    }
   ],
   "source": [
    "controlgroup = control.groupby(\"moth_smk\").moth_smk.count()\n",
    "controlgroup"
   ]
  },
  {
   "cell_type": "code",
   "execution_count": 26,
   "id": "02280cea",
   "metadata": {},
   "outputs": [
    {
     "data": {
      "image/png": "[encoded data removed]",
      "text/plain": [
       "<Figure size 720x720 with 1 Axes>"
      ]
     },
     "metadata": {},
     "output_type": "display_data"
    }
   ],
   "source": [
    "labels = ['Mother Did Not Smoke', 'Mother Smoked']\n",
    "explode = (0, 0.1)\n",
    "colors = colors = ['#AEC6CF','#D3D3D3']\n",
    "\n",
    "controlplot = controlgroup.plot.pie(title = \"Control Group ~ Did the Mother Smoke?\", y='controlgroup', figsize=(10, 10),autopct='%1.1f%%',labels = labels, explode = explode, shadow = True, colors = colors,fontsize=20)\n",
    "\n"
   ]
  },
  {
   "cell_type": "code",
   "execution_count": 29,
   "id": "5ba230d9",
   "metadata": {
    "scrolled": false
   },
   "outputs": [
    {
     "data": {
      "image/png": "[encoded data removed]",
      "text/plain": [
       "<Figure size 432x288 with 1 Axes>"
      ]
     },
     "metadata": {},
     "output_type": "display_data"
    }
   ],
   "source": [
    "import matplotlib.pyplot as plt\n",
    "labels = ['MotherDid Not Smoke', 'Mother Smoked']\n",
    "#labels_control = ['Yes','No']\n",
    "colors = ['#F8C8DC','#cfcfc4']\n",
    "colors_inside = ['#AEC6CF','#D3D3D3']\n",
    " \n",
    "# Plot\n",
    "casegroup.plot.pie(labels=labels, colors=colors, startangle=90,frame=True, autopct='%1.1f%%',fontsize=10)\n",
    "controlgroup.plot.pie(colors=colors_inside,radius=0.75,startangle=90, autopct='%1.1f%%', legend = True)\n",
    "centre_circle = plt.Circle((0,0),0.5,color='black', fc='white',linewidth=0)\n",
    "fig = plt.gcf()\n",
    "fig.gca().add_artist(centre_circle)\n",
    " \n",
    "plt.axis('equal')\n",
    "plt.tight_layout()\n",
    "plt.show()"
   ]
  },
  {
   "cell_type": "markdown",
   "id": "79916edf",
   "metadata": {},
   "source": [
    "#https://medium.com/@kvnamipara/a-better-visualisation-of-pie-charts-by-matplotlib-935b7667d77f"
   ]
  },
  {
   "cell_type": "code",
   "execution_count": null,
   "id": "840ce6f0",
   "metadata": {},
   "outputs": [],
   "source": []
  }
 ],
 "metadata": {
  "kernelspec": {
   "display_name": "Python 3 (ipykernel)",
   "language": "python",
   "name": "python3"
  },
  "language_info": {
   "codemirror_mode": {
    "name": "ipython",
    "version": 3
   },
   "file_extension": ".py",
   "mimetype": "text/x-python",
   "name": "python",
   "nbconvert_exporter": "python",
   "pygments_lexer": "ipython3",
   "version": "3.9.12"
  }
 },
 "nbformat": 4,
 "nbformat_minor": 5
}
